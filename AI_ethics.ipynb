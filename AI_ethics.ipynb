{
  "nbformat": 4,
  "nbformat_minor": 0,
  "metadata": {
    "colab": {
      "provenance": [],
      "authorship_tag": "ABX9TyPnAI8VvuIOWylzjO+RLkgB",
      "include_colab_link": true
    },
    "kernelspec": {
      "name": "python3",
      "display_name": "Python 3"
    },
    "language_info": {
      "name": "python"
    }
  },
  "cells": [
    {
      "cell_type": "markdown",
      "metadata": {
        "id": "view-in-github",
        "colab_type": "text"
      },
      "source": [
        "<a href=\"https://colab.research.google.com/github/CWX-student/AI-ethics-coursework-1/blob/main/AI_ethics.ipynb\" target=\"_parent\"><img src=\"https://colab.research.google.com/assets/colab-badge.svg\" alt=\"Open In Colab\"/></a>"
      ]
    },
    {
      "cell_type": "code",
      "execution_count": null,
      "metadata": {
        "colab": {
          "base_uri": "https://localhost:8080/",
          "height": 1000
        },
        "id": "VTPusZ_R4NKO",
        "outputId": "9b2c026b-7b1e-4083-e1bd-96312f143b31"
      },
      "outputs": [
        {
          "output_type": "stream",
          "name": "stdout",
          "text": [
            "Looking in indexes: https://pypi.org/simple, https://us-python.pkg.dev/colab-wheels/public/simple/\n",
            "Collecting folktables\n",
            "  Downloading folktables-0.0.12-py3-none-any.whl (17 kB)\n",
            "Requirement already satisfied: scikit-learn in /usr/local/lib/python3.8/dist-packages (from folktables) (1.0.2)\n",
            "Requirement already satisfied: requests in /usr/local/lib/python3.8/dist-packages (from folktables) (2.25.1)\n",
            "Requirement already satisfied: numpy in /usr/local/lib/python3.8/dist-packages (from folktables) (1.21.6)\n",
            "Requirement already satisfied: pandas in /usr/local/lib/python3.8/dist-packages (from folktables) (1.3.5)\n",
            "Requirement already satisfied: pytz>=2017.3 in /usr/local/lib/python3.8/dist-packages (from pandas->folktables) (2022.7.1)\n",
            "Requirement already satisfied: python-dateutil>=2.7.3 in /usr/local/lib/python3.8/dist-packages (from pandas->folktables) (2.8.2)\n",
            "Requirement already satisfied: urllib3<1.27,>=1.21.1 in /usr/local/lib/python3.8/dist-packages (from requests->folktables) (1.24.3)\n",
            "Requirement already satisfied: chardet<5,>=3.0.2 in /usr/local/lib/python3.8/dist-packages (from requests->folktables) (4.0.0)\n",
            "Requirement already satisfied: idna<3,>=2.5 in /usr/local/lib/python3.8/dist-packages (from requests->folktables) (2.10)\n",
            "Requirement already satisfied: certifi>=2017.4.17 in /usr/local/lib/python3.8/dist-packages (from requests->folktables) (2022.12.7)\n",
            "Requirement already satisfied: joblib>=0.11 in /usr/local/lib/python3.8/dist-packages (from scikit-learn->folktables) (1.2.0)\n",
            "Requirement already satisfied: threadpoolctl>=2.0.0 in /usr/local/lib/python3.8/dist-packages (from scikit-learn->folktables) (3.1.0)\n",
            "Requirement already satisfied: scipy>=1.1.0 in /usr/local/lib/python3.8/dist-packages (from scikit-learn->folktables) (1.7.3)\n",
            "Requirement already satisfied: six>=1.5 in /usr/local/lib/python3.8/dist-packages (from python-dateutil>=2.7.3->pandas->folktables) (1.15.0)\n",
            "Installing collected packages: folktables\n",
            "Successfully installed folktables-0.0.12\n",
            "Looking in indexes: https://pypi.org/simple, https://us-python.pkg.dev/colab-wheels/public/simple/\n",
            "Collecting aif360\n",
            "  Downloading aif360-0.5.0-py3-none-any.whl (214 kB)\n",
            "\u001b[2K     \u001b[90m━━━━━━━━━━━━━━━━━━━━━━━━━━━━━━━━━━━━━━━\u001b[0m \u001b[32m214.1/214.1 KB\u001b[0m \u001b[31m4.5 MB/s\u001b[0m eta \u001b[36m0:00:00\u001b[0m\n",
            "\u001b[?25hRequirement already satisfied: pandas>=0.24.0 in /usr/local/lib/python3.8/dist-packages (from aif360) (1.3.5)\n",
            "Requirement already satisfied: numpy>=1.16 in /usr/local/lib/python3.8/dist-packages (from aif360) (1.21.6)\n",
            "Requirement already satisfied: scikit-learn>=1.0 in /usr/local/lib/python3.8/dist-packages (from aif360) (1.0.2)\n",
            "Requirement already satisfied: scipy>=1.2.0 in /usr/local/lib/python3.8/dist-packages (from aif360) (1.7.3)\n",
            "Requirement already satisfied: matplotlib in /usr/local/lib/python3.8/dist-packages (from aif360) (3.2.2)\n",
            "Requirement already satisfied: pytz>=2017.3 in /usr/local/lib/python3.8/dist-packages (from pandas>=0.24.0->aif360) (2022.7.1)\n",
            "Requirement already satisfied: python-dateutil>=2.7.3 in /usr/local/lib/python3.8/dist-packages (from pandas>=0.24.0->aif360) (2.8.2)\n",
            "Requirement already satisfied: joblib>=0.11 in /usr/local/lib/python3.8/dist-packages (from scikit-learn>=1.0->aif360) (1.2.0)\n",
            "Requirement already satisfied: threadpoolctl>=2.0.0 in /usr/local/lib/python3.8/dist-packages (from scikit-learn>=1.0->aif360) (3.1.0)\n",
            "Requirement already satisfied: kiwisolver>=1.0.1 in /usr/local/lib/python3.8/dist-packages (from matplotlib->aif360) (1.4.4)\n",
            "Requirement already satisfied: cycler>=0.10 in /usr/local/lib/python3.8/dist-packages (from matplotlib->aif360) (0.11.0)\n",
            "Requirement already satisfied: pyparsing!=2.0.4,!=2.1.2,!=2.1.6,>=2.0.1 in /usr/local/lib/python3.8/dist-packages (from matplotlib->aif360) (3.0.9)\n",
            "Requirement already satisfied: six>=1.5 in /usr/local/lib/python3.8/dist-packages (from python-dateutil>=2.7.3->pandas>=0.24.0->aif360) (1.15.0)\n",
            "Installing collected packages: aif360\n",
            "Successfully installed aif360-0.5.0\n",
            "Looking in indexes: https://pypi.org/simple, https://us-python.pkg.dev/colab-wheels/public/simple/\n",
            "Requirement already satisfied: aif360[LawSchoolGPA] in /usr/local/lib/python3.8/dist-packages (0.5.0)\n",
            "Requirement already satisfied: numpy>=1.16 in /usr/local/lib/python3.8/dist-packages (from aif360[LawSchoolGPA]) (1.21.6)\n",
            "Requirement already satisfied: scikit-learn>=1.0 in /usr/local/lib/python3.8/dist-packages (from aif360[LawSchoolGPA]) (1.0.2)\n",
            "Requirement already satisfied: scipy>=1.2.0 in /usr/local/lib/python3.8/dist-packages (from aif360[LawSchoolGPA]) (1.7.3)\n",
            "Requirement already satisfied: matplotlib in /usr/local/lib/python3.8/dist-packages (from aif360[LawSchoolGPA]) (3.2.2)\n",
            "Requirement already satisfied: pandas>=0.24.0 in /usr/local/lib/python3.8/dist-packages (from aif360[LawSchoolGPA]) (1.3.5)\n",
            "Collecting tempeh\n",
            "  Downloading tempeh-0.1.12-py3-none-any.whl (39 kB)\n",
            "Requirement already satisfied: python-dateutil>=2.7.3 in /usr/local/lib/python3.8/dist-packages (from pandas>=0.24.0->aif360[LawSchoolGPA]) (2.8.2)\n",
            "Requirement already satisfied: pytz>=2017.3 in /usr/local/lib/python3.8/dist-packages (from pandas>=0.24.0->aif360[LawSchoolGPA]) (2022.7.1)\n",
            "Requirement already satisfied: joblib>=0.11 in /usr/local/lib/python3.8/dist-packages (from scikit-learn>=1.0->aif360[LawSchoolGPA]) (1.2.0)\n",
            "Requirement already satisfied: threadpoolctl>=2.0.0 in /usr/local/lib/python3.8/dist-packages (from scikit-learn>=1.0->aif360[LawSchoolGPA]) (3.1.0)\n",
            "Requirement already satisfied: cycler>=0.10 in /usr/local/lib/python3.8/dist-packages (from matplotlib->aif360[LawSchoolGPA]) (0.11.0)\n",
            "Requirement already satisfied: pyparsing!=2.0.4,!=2.1.2,!=2.1.6,>=2.0.1 in /usr/local/lib/python3.8/dist-packages (from matplotlib->aif360[LawSchoolGPA]) (3.0.9)\n",
            "Requirement already satisfied: kiwisolver>=1.0.1 in /usr/local/lib/python3.8/dist-packages (from matplotlib->aif360[LawSchoolGPA]) (1.4.4)\n",
            "Requirement already satisfied: requests in /usr/local/lib/python3.8/dist-packages (from tempeh->aif360[LawSchoolGPA]) (2.25.1)\n",
            "Requirement already satisfied: pytest in /usr/local/lib/python3.8/dist-packages (from tempeh->aif360[LawSchoolGPA]) (3.6.4)\n",
            "Collecting memory-profiler\n",
            "  Downloading memory_profiler-0.61.0-py3-none-any.whl (31 kB)\n",
            "Collecting shap\n",
            "  Downloading shap-0.41.0-cp38-cp38-manylinux_2_12_x86_64.manylinux2010_x86_64.whl (575 kB)\n",
            "\u001b[2K     \u001b[90m━━━━━━━━━━━━━━━━━━━━━━━━━━━━━━━━━━━━━━\u001b[0m \u001b[32m575.9/575.9 KB\u001b[0m \u001b[31m22.5 MB/s\u001b[0m eta \u001b[36m0:00:00\u001b[0m\n",
            "\u001b[?25hRequirement already satisfied: six>=1.5 in /usr/local/lib/python3.8/dist-packages (from python-dateutil>=2.7.3->pandas>=0.24.0->aif360[LawSchoolGPA]) (1.15.0)\n",
            "Requirement already satisfied: psutil in /usr/local/lib/python3.8/dist-packages (from memory-profiler->tempeh->aif360[LawSchoolGPA]) (5.4.8)\n",
            "Requirement already satisfied: attrs>=17.4.0 in /usr/local/lib/python3.8/dist-packages (from pytest->tempeh->aif360[LawSchoolGPA]) (22.2.0)\n",
            "Requirement already satisfied: setuptools in /usr/local/lib/python3.8/dist-packages (from pytest->tempeh->aif360[LawSchoolGPA]) (57.4.0)\n",
            "Requirement already satisfied: py>=1.5.0 in /usr/local/lib/python3.8/dist-packages (from pytest->tempeh->aif360[LawSchoolGPA]) (1.11.0)\n",
            "Requirement already satisfied: more-itertools>=4.0.0 in /usr/local/lib/python3.8/dist-packages (from pytest->tempeh->aif360[LawSchoolGPA]) (9.0.0)\n",
            "Requirement already satisfied: pluggy<0.8,>=0.5 in /usr/local/lib/python3.8/dist-packages (from pytest->tempeh->aif360[LawSchoolGPA]) (0.7.1)\n",
            "Requirement already satisfied: atomicwrites>=1.0 in /usr/local/lib/python3.8/dist-packages (from pytest->tempeh->aif360[LawSchoolGPA]) (1.4.1)\n",
            "Requirement already satisfied: idna<3,>=2.5 in /usr/local/lib/python3.8/dist-packages (from requests->tempeh->aif360[LawSchoolGPA]) (2.10)\n",
            "Requirement already satisfied: certifi>=2017.4.17 in /usr/local/lib/python3.8/dist-packages (from requests->tempeh->aif360[LawSchoolGPA]) (2022.12.7)\n",
            "Requirement already satisfied: urllib3<1.27,>=1.21.1 in /usr/local/lib/python3.8/dist-packages (from requests->tempeh->aif360[LawSchoolGPA]) (1.24.3)\n",
            "Requirement already satisfied: chardet<5,>=3.0.2 in /usr/local/lib/python3.8/dist-packages (from requests->tempeh->aif360[LawSchoolGPA]) (4.0.0)\n",
            "Requirement already satisfied: packaging>20.9 in /usr/local/lib/python3.8/dist-packages (from shap->tempeh->aif360[LawSchoolGPA]) (23.0)\n",
            "Requirement already satisfied: cloudpickle in /usr/local/lib/python3.8/dist-packages (from shap->tempeh->aif360[LawSchoolGPA]) (2.2.1)\n",
            "Requirement already satisfied: numba in /usr/local/lib/python3.8/dist-packages (from shap->tempeh->aif360[LawSchoolGPA]) (0.56.4)\n",
            "Collecting slicer==0.0.7\n",
            "  Downloading slicer-0.0.7-py3-none-any.whl (14 kB)\n",
            "Requirement already satisfied: tqdm>4.25.0 in /usr/local/lib/python3.8/dist-packages (from shap->tempeh->aif360[LawSchoolGPA]) (4.64.1)\n",
            "Requirement already satisfied: importlib-metadata in /usr/local/lib/python3.8/dist-packages (from numba->shap->tempeh->aif360[LawSchoolGPA]) (6.0.0)\n",
            "Requirement already satisfied: llvmlite<0.40,>=0.39.0dev0 in /usr/local/lib/python3.8/dist-packages (from numba->shap->tempeh->aif360[LawSchoolGPA]) (0.39.1)\n",
            "Requirement already satisfied: zipp>=0.5 in /usr/local/lib/python3.8/dist-packages (from importlib-metadata->numba->shap->tempeh->aif360[LawSchoolGPA]) (3.12.1)\n",
            "Installing collected packages: slicer, memory-profiler, shap, tempeh\n",
            "Successfully installed memory-profiler-0.61.0 shap-0.41.0 slicer-0.0.7 tempeh-0.1.12\n",
            "Looking in indexes: https://pypi.org/simple, https://us-python.pkg.dev/colab-wheels/public/simple/\n",
            "Requirement already satisfied: aif360[Reductions] in /usr/local/lib/python3.8/dist-packages (0.5.0)\n",
            "Requirement already satisfied: pandas>=0.24.0 in /usr/local/lib/python3.8/dist-packages (from aif360[Reductions]) (1.3.5)\n",
            "Requirement already satisfied: scipy>=1.2.0 in /usr/local/lib/python3.8/dist-packages (from aif360[Reductions]) (1.7.3)\n",
            "Requirement already satisfied: matplotlib in /usr/local/lib/python3.8/dist-packages (from aif360[Reductions]) (3.2.2)\n",
            "Requirement already satisfied: scikit-learn>=1.0 in /usr/local/lib/python3.8/dist-packages (from aif360[Reductions]) (1.0.2)\n",
            "Requirement already satisfied: numpy>=1.16 in /usr/local/lib/python3.8/dist-packages (from aif360[Reductions]) (1.21.6)\n",
            "Collecting fairlearn~=0.7\n",
            "  Downloading fairlearn-0.8.0-py3-none-any.whl (235 kB)\n",
            "\u001b[2K     \u001b[90m━━━━━━━━━━━━━━━━━━━━━━━━━━━━━━━━━━━━━━━\u001b[0m \u001b[32m235.0/235.0 KB\u001b[0m \u001b[31m7.9 MB/s\u001b[0m eta \u001b[36m0:00:00\u001b[0m\n",
            "\u001b[?25hRequirement already satisfied: python-dateutil>=2.7.3 in /usr/local/lib/python3.8/dist-packages (from pandas>=0.24.0->aif360[Reductions]) (2.8.2)\n",
            "Requirement already satisfied: pytz>=2017.3 in /usr/local/lib/python3.8/dist-packages (from pandas>=0.24.0->aif360[Reductions]) (2022.7.1)\n",
            "Requirement already satisfied: threadpoolctl>=2.0.0 in /usr/local/lib/python3.8/dist-packages (from scikit-learn>=1.0->aif360[Reductions]) (3.1.0)\n",
            "Requirement already satisfied: joblib>=0.11 in /usr/local/lib/python3.8/dist-packages (from scikit-learn>=1.0->aif360[Reductions]) (1.2.0)\n",
            "Requirement already satisfied: kiwisolver>=1.0.1 in /usr/local/lib/python3.8/dist-packages (from matplotlib->aif360[Reductions]) (1.4.4)\n",
            "Requirement already satisfied: cycler>=0.10 in /usr/local/lib/python3.8/dist-packages (from matplotlib->aif360[Reductions]) (0.11.0)\n",
            "Requirement already satisfied: pyparsing!=2.0.4,!=2.1.2,!=2.1.6,>=2.0.1 in /usr/local/lib/python3.8/dist-packages (from matplotlib->aif360[Reductions]) (3.0.9)\n",
            "Requirement already satisfied: six>=1.5 in /usr/local/lib/python3.8/dist-packages (from python-dateutil>=2.7.3->pandas>=0.24.0->aif360[Reductions]) (1.15.0)\n",
            "Installing collected packages: fairlearn\n",
            "Successfully installed fairlearn-0.8.0\n",
            "Looking in indexes: https://pypi.org/simple, https://us-python.pkg.dev/colab-wheels/public/simple/\n",
            "Requirement already satisfied: aif360[Reductions] in /usr/local/lib/python3.8/dist-packages (0.5.0)\n",
            "Requirement already satisfied: scipy>=1.2.0 in /usr/local/lib/python3.8/dist-packages (from aif360[Reductions]) (1.7.3)\n",
            "Requirement already satisfied: scikit-learn>=1.0 in /usr/local/lib/python3.8/dist-packages (from aif360[Reductions]) (1.0.2)\n",
            "Requirement already satisfied: matplotlib in /usr/local/lib/python3.8/dist-packages (from aif360[Reductions]) (3.2.2)\n",
            "Requirement already satisfied: pandas>=0.24.0 in /usr/local/lib/python3.8/dist-packages (from aif360[Reductions]) (1.3.5)\n",
            "Requirement already satisfied: numpy>=1.16 in /usr/local/lib/python3.8/dist-packages (from aif360[Reductions]) (1.21.6)\n",
            "Requirement already satisfied: fairlearn~=0.7 in /usr/local/lib/python3.8/dist-packages (from aif360[Reductions]) (0.8.0)\n",
            "Requirement already satisfied: pytz>=2017.3 in /usr/local/lib/python3.8/dist-packages (from pandas>=0.24.0->aif360[Reductions]) (2022.7.1)\n",
            "Requirement already satisfied: python-dateutil>=2.7.3 in /usr/local/lib/python3.8/dist-packages (from pandas>=0.24.0->aif360[Reductions]) (2.8.2)\n",
            "Requirement already satisfied: joblib>=0.11 in /usr/local/lib/python3.8/dist-packages (from scikit-learn>=1.0->aif360[Reductions]) (1.2.0)\n",
            "Requirement already satisfied: threadpoolctl>=2.0.0 in /usr/local/lib/python3.8/dist-packages (from scikit-learn>=1.0->aif360[Reductions]) (3.1.0)\n",
            "Requirement already satisfied: cycler>=0.10 in /usr/local/lib/python3.8/dist-packages (from matplotlib->aif360[Reductions]) (0.11.0)\n",
            "Requirement already satisfied: kiwisolver>=1.0.1 in /usr/local/lib/python3.8/dist-packages (from matplotlib->aif360[Reductions]) (1.4.4)\n",
            "Requirement already satisfied: pyparsing!=2.0.4,!=2.1.2,!=2.1.6,>=2.0.1 in /usr/local/lib/python3.8/dist-packages (from matplotlib->aif360[Reductions]) (3.0.9)\n",
            "Requirement already satisfied: six>=1.5 in /usr/local/lib/python3.8/dist-packages (from python-dateutil>=2.7.3->pandas>=0.24.0->aif360[Reductions]) (1.15.0)\n",
            "Looking in indexes: https://pypi.org/simple, https://us-python.pkg.dev/colab-wheels/public/simple/\n",
            "Requirement already satisfied: aif360[Reductions] in /usr/local/lib/python3.8/dist-packages (0.5.0)\n",
            "Requirement already satisfied: scikit-learn>=1.0 in /usr/local/lib/python3.8/dist-packages (from aif360[Reductions]) (1.0.2)\n",
            "Requirement already satisfied: pandas>=0.24.0 in /usr/local/lib/python3.8/dist-packages (from aif360[Reductions]) (1.3.5)\n",
            "Requirement already satisfied: scipy>=1.2.0 in /usr/local/lib/python3.8/dist-packages (from aif360[Reductions]) (1.7.3)\n",
            "Requirement already satisfied: numpy>=1.16 in /usr/local/lib/python3.8/dist-packages (from aif360[Reductions]) (1.21.6)\n",
            "Requirement already satisfied: matplotlib in /usr/local/lib/python3.8/dist-packages (from aif360[Reductions]) (3.2.2)\n",
            "Requirement already satisfied: fairlearn~=0.7 in /usr/local/lib/python3.8/dist-packages (from aif360[Reductions]) (0.8.0)\n",
            "Requirement already satisfied: python-dateutil>=2.7.3 in /usr/local/lib/python3.8/dist-packages (from pandas>=0.24.0->aif360[Reductions]) (2.8.2)\n",
            "Requirement already satisfied: pytz>=2017.3 in /usr/local/lib/python3.8/dist-packages (from pandas>=0.24.0->aif360[Reductions]) (2022.7.1)\n",
            "Requirement already satisfied: joblib>=0.11 in /usr/local/lib/python3.8/dist-packages (from scikit-learn>=1.0->aif360[Reductions]) (1.2.0)\n",
            "Requirement already satisfied: threadpoolctl>=2.0.0 in /usr/local/lib/python3.8/dist-packages (from scikit-learn>=1.0->aif360[Reductions]) (3.1.0)\n",
            "Requirement already satisfied: kiwisolver>=1.0.1 in /usr/local/lib/python3.8/dist-packages (from matplotlib->aif360[Reductions]) (1.4.4)\n",
            "Requirement already satisfied: pyparsing!=2.0.4,!=2.1.2,!=2.1.6,>=2.0.1 in /usr/local/lib/python3.8/dist-packages (from matplotlib->aif360[Reductions]) (3.0.9)\n",
            "Requirement already satisfied: cycler>=0.10 in /usr/local/lib/python3.8/dist-packages (from matplotlib->aif360[Reductions]) (0.11.0)\n",
            "Requirement already satisfied: six>=1.5 in /usr/local/lib/python3.8/dist-packages (from python-dateutil>=2.7.3->pandas>=0.24.0->aif360[Reductions]) (1.15.0)\n"
          ]
        },
        {
          "output_type": "display_data",
          "data": {
            "text/plain": [
              "<IPython.core.display.Markdown object>"
            ],
            "text/markdown": "# Task 3: Model Selection Strategy"
          },
          "metadata": {}
        },
        {
          "output_type": "display_data",
          "data": {
            "text/plain": [
              "<IPython.core.display.Markdown object>"
            ],
            "text/markdown": "#### 1) Suggest a model selection strategy (criterion) that accounts for both accuracy and fairness."
          },
          "metadata": {}
        },
        {
          "output_type": "display_data",
          "data": {
            "text/plain": [
              "<IPython.core.display.Markdown object>"
            ],
            "text/markdown": "#### 2) Compare the standard model versus the fairness-aware model using the proposed criterion"
          },
          "metadata": {}
        },
        {
          "output_type": "display_data",
          "data": {
            "text/plain": [
              "<IPython.core.display.Markdown object>"
            ],
            "text/markdown": "#### 3) Accuracy and fairness for both models on the test set."
          },
          "metadata": {}
        },
        {
          "output_type": "stream",
          "name": "stdout",
          "text": [
            "Standard Model\n",
            "Downloading data for 2018 1-Year person survey for CA...\n"
          ]
        },
        {
          "output_type": "display_data",
          "data": {
            "text/plain": [
              "<IPython.core.display.Markdown object>"
            ],
            "text/markdown": "#### Training Dataset shape"
          },
          "metadata": {}
        },
        {
          "output_type": "stream",
          "name": "stdout",
          "text": [
            "(211848, 17)\n"
          ]
        },
        {
          "output_type": "display_data",
          "data": {
            "text/plain": [
              "<IPython.core.display.Markdown object>"
            ],
            "text/markdown": "#### Favorable and unfavorable labels"
          },
          "metadata": {}
        },
        {
          "output_type": "stream",
          "name": "stdout",
          "text": [
            "1.0 0.0\n"
          ]
        },
        {
          "output_type": "display_data",
          "data": {
            "text/plain": [
              "<IPython.core.display.Markdown object>"
            ],
            "text/markdown": "#### Protected attribute names"
          },
          "metadata": {}
        },
        {
          "output_type": "stream",
          "name": "stdout",
          "text": [
            "['SEX']\n"
          ]
        },
        {
          "output_type": "display_data",
          "data": {
            "text/plain": [
              "<IPython.core.display.Markdown object>"
            ],
            "text/markdown": "#### Privileged and unprivileged protected attribute values"
          },
          "metadata": {}
        },
        {
          "output_type": "stream",
          "name": "stdout",
          "text": [
            "[array([1.])] [array([2.])]\n"
          ]
        },
        {
          "output_type": "display_data",
          "data": {
            "text/plain": [
              "<IPython.core.display.Markdown object>"
            ],
            "text/markdown": "#### Dataset feature names"
          },
          "metadata": {}
        },
        {
          "output_type": "stream",
          "name": "stdout",
          "text": [
            "['AGEP', 'SCHL', 'MAR', 'RELP', 'DIS', 'ESP', 'CIT', 'MIG', 'MIL', 'ANC', 'NATIVITY', 'DEAR', 'DEYE', 'DREM', 'SEX', 'RAC1P', 'GCL']\n",
            "1折划分: (169478,) (42370,)\n",
            "2折划分: (169478,) (42370,)\n",
            "3折划分: (169478,) (42370,)\n",
            "4折划分: (169479,) (42369,)\n",
            "5折划分: (169479,) (42369,)\n"
          ]
        },
        {
          "output_type": "error",
          "ename": "IndexError",
          "evalue": "ignored",
          "traceback": [
            "\u001b[0;31m---------------------------------------------------------------------------\u001b[0m",
            "\u001b[0;31mIndexError\u001b[0m                                Traceback (most recent call last)",
            "\u001b[0;32m<ipython-input-2-b610b14c5fc5>\u001b[0m in \u001b[0;36m<module>\u001b[0;34m\u001b[0m\n\u001b[1;32m    503\u001b[0m     \u001b[0mdisplay\u001b[0m\u001b[0;34m(\u001b[0m\u001b[0mMarkdown\u001b[0m\u001b[0;34m(\u001b[0m\u001b[0;34m\"#### 3) Accuracy and fairness for both models on the test set.\"\u001b[0m\u001b[0;34m)\u001b[0m\u001b[0;34m)\u001b[0m\u001b[0;34m\u001b[0m\u001b[0;34m\u001b[0m\u001b[0m\n\u001b[1;32m    504\u001b[0m     \u001b[0mprint\u001b[0m\u001b[0;34m(\u001b[0m\u001b[0;34m\"Standard Model\"\u001b[0m\u001b[0;34m)\u001b[0m\u001b[0;34m\u001b[0m\u001b[0;34m\u001b[0m\u001b[0m\n\u001b[0;32m--> 505\u001b[0;31m     \u001b[0mCA_results\u001b[0m\u001b[0;34m,\u001b[0m \u001b[0mNY_results\u001b[0m \u001b[0;34m=\u001b[0m \u001b[0mtask3\u001b[0m\u001b[0;34m(\u001b[0m\u001b[0mreweighting\u001b[0m\u001b[0;34m=\u001b[0m\u001b[0;32mFalse\u001b[0m\u001b[0;34m)\u001b[0m\u001b[0;34m\u001b[0m\u001b[0;34m\u001b[0m\u001b[0m\n\u001b[0m\u001b[1;32m    506\u001b[0m     \u001b[0mprint\u001b[0m\u001b[0;34m(\u001b[0m\u001b[0;34m\"CA\"\u001b[0m\u001b[0;34m)\u001b[0m\u001b[0;34m\u001b[0m\u001b[0;34m\u001b[0m\u001b[0m\n\u001b[1;32m    507\u001b[0m     \u001b[0mplot_scatter\u001b[0m\u001b[0;34m(\u001b[0m\u001b[0mCA_results\u001b[0m\u001b[0;34m)\u001b[0m\u001b[0;34m\u001b[0m\u001b[0;34m\u001b[0m\u001b[0m\n",
            "\u001b[0;32m<ipython-input-2-b610b14c5fc5>\u001b[0m in \u001b[0;36mtask3\u001b[0;34m(reweighting, state, **kwargs)\u001b[0m\n\u001b[1;32m    433\u001b[0m   \u001b[0mmy_pair_best_m3\u001b[0m \u001b[0;34m=\u001b[0m \u001b[0mmax\u001b[0m\u001b[0;34m(\u001b[0m\u001b[0mparam_pair\u001b[0m\u001b[0;34m,\u001b[0m \u001b[0mkey\u001b[0m\u001b[0;34m=\u001b[0m\u001b[0;32mlambda\u001b[0m \u001b[0mx\u001b[0m\u001b[0;34m:\u001b[0m \u001b[0mabs\u001b[0m\u001b[0;34m(\u001b[0m\u001b[0mx\u001b[0m\u001b[0;34m[\u001b[0m\u001b[0;36m9\u001b[0m\u001b[0;34m]\u001b[0m\u001b[0;34m)\u001b[0m\u001b[0;34m)\u001b[0m\u001b[0;34m\u001b[0m\u001b[0;34m\u001b[0m\u001b[0m\n\u001b[1;32m    434\u001b[0m \u001b[0;34m\u001b[0m\u001b[0m\n\u001b[0;32m--> 435\u001b[0;31m   \u001b[0mtrade_off\u001b[0m\u001b[0;34m(\u001b[0m\u001b[0macc_fair\u001b[0m\u001b[0;34m,\u001b[0m \u001b[0;34m\"Fairness\"\u001b[0m\u001b[0;34m,\u001b[0m \u001b[0;36m0.05\u001b[0m\u001b[0;34m)\u001b[0m\u001b[0;34m\u001b[0m\u001b[0;34m\u001b[0m\u001b[0m\n\u001b[0m\u001b[1;32m    436\u001b[0m \u001b[0;34m\u001b[0m\u001b[0m\n\u001b[1;32m    437\u001b[0m   \u001b[0;31m# my_strategy_metric0 = np.tanh(np.arctanh(acc)*np.arctanh(fair))\u001b[0m\u001b[0;34m\u001b[0m\u001b[0;34m\u001b[0m\u001b[0;34m\u001b[0m\u001b[0m\n",
            "\u001b[0;32m<ipython-input-2-b610b14c5fc5>\u001b[0m in \u001b[0;36mtrade_off\u001b[0;34m(acc_fair, metric, thres)\u001b[0m\n\u001b[1;32m    354\u001b[0m \u001b[0;34m\u001b[0m\u001b[0m\n\u001b[1;32m    355\u001b[0m   \u001b[0mpoint_collection\u001b[0m \u001b[0;34m=\u001b[0m \u001b[0mgeometry\u001b[0m\u001b[0;34m.\u001b[0m\u001b[0mMultiPoint\u001b[0m\u001b[0;34m(\u001b[0m\u001b[0mlist\u001b[0m\u001b[0;34m(\u001b[0m\u001b[0macc_fair\u001b[0m\u001b[0;34m)\u001b[0m\u001b[0;34m)\u001b[0m\u001b[0;34m\u001b[0m\u001b[0;34m\u001b[0m\u001b[0m\n\u001b[0;32m--> 356\u001b[0;31m   patch = PolygonPatch(point_collection.convex_hull.buffer(0.005), fc='#999999',\n\u001b[0m\u001b[1;32m    357\u001b[0m                          \u001b[0mec\u001b[0m\u001b[0;34m=\u001b[0m\u001b[0;34m'#000000'\u001b[0m\u001b[0;34m,\u001b[0m \u001b[0mfill\u001b[0m\u001b[0;34m=\u001b[0m\u001b[0;32mTrue\u001b[0m\u001b[0;34m,\u001b[0m\u001b[0;34m\u001b[0m\u001b[0;34m\u001b[0m\u001b[0m\n\u001b[1;32m    358\u001b[0m                          zorder=-1)\n",
            "\u001b[0;32m/usr/local/lib/python3.8/dist-packages/descartes/patch.py\u001b[0m in \u001b[0;36mPolygonPatch\u001b[0;34m(polygon, **kwargs)\u001b[0m\n\u001b[1;32m     85\u001b[0m \u001b[0;34m\u001b[0m\u001b[0m\n\u001b[1;32m     86\u001b[0m     \"\"\"\n\u001b[0;32m---> 87\u001b[0;31m     \u001b[0;32mreturn\u001b[0m \u001b[0mPathPatch\u001b[0m\u001b[0;34m(\u001b[0m\u001b[0mPolygonPath\u001b[0m\u001b[0;34m(\u001b[0m\u001b[0mpolygon\u001b[0m\u001b[0;34m)\u001b[0m\u001b[0;34m,\u001b[0m \u001b[0;34m**\u001b[0m\u001b[0mkwargs\u001b[0m\u001b[0;34m)\u001b[0m\u001b[0;34m\u001b[0m\u001b[0;34m\u001b[0m\u001b[0m\n\u001b[0m",
            "\u001b[0;32m/usr/local/lib/python3.8/dist-packages/descartes/patch.py\u001b[0m in \u001b[0;36mPolygonPath\u001b[0;34m(polygon)\u001b[0m\n\u001b[1;32m     60\u001b[0m                 \"A polygon or multi-polygon representation is required\")\n\u001b[1;32m     61\u001b[0m \u001b[0;34m\u001b[0m\u001b[0m\n\u001b[0;32m---> 62\u001b[0;31m     vertices = concatenate([\n\u001b[0m\u001b[1;32m     63\u001b[0m         concatenate([asarray(t.exterior)[:, :2]] +\n\u001b[1;32m     64\u001b[0m                     [asarray(r)[:, :2] for r in t.interiors])\n",
            "\u001b[0;32m/usr/local/lib/python3.8/dist-packages/descartes/patch.py\u001b[0m in \u001b[0;36m<listcomp>\u001b[0;34m(.0)\u001b[0m\n\u001b[1;32m     61\u001b[0m \u001b[0;34m\u001b[0m\u001b[0m\n\u001b[1;32m     62\u001b[0m     vertices = concatenate([\n\u001b[0;32m---> 63\u001b[0;31m         concatenate([asarray(t.exterior)[:, :2]] +\n\u001b[0m\u001b[1;32m     64\u001b[0m                     [asarray(r)[:, :2] for r in t.interiors])\n\u001b[1;32m     65\u001b[0m         for t in polygon])\n",
            "\u001b[0;31mIndexError\u001b[0m: too many indices for array: array is 0-dimensional, but 2 were indexed"
          ]
        },
        {
          "output_type": "display_data",
          "data": {
            "text/plain": [
              "<Figure size 432x288 with 1 Axes>"
            ],
            "image/png": "[encoded data removed]"
          },
          "metadata": {
            "needs_background": "light"
          }
        }
      ],
      "source": [
        "'''\n",
        "Coursework 1 - Caiwen Xu -  Fair classification.\n",
        "'''\n",
        "!pip install folktables\n",
        "!pip install aif360\n",
        "!pip install aif360[LawSchoolGPA]\n",
        "!pip install aif360[Reductions]\n",
        "!pip install aif360[Reductions]\n",
        "!pip install aif360[Reductions]\n",
        "\n",
        "from IPython.display import Markdown, display\n",
        "import matplotlib.pyplot as plt\n",
        "import numpy as np\n",
        "from sklearn.preprocessing import MaxAbsScaler, StandardScaler\n",
        "from tqdm import tqdm\n",
        "\n",
        "from aif360.metrics import BinaryLabelDatasetMetric\n",
        "from aif360.metrics import ClassificationMetric\n",
        "from aif360.algorithms.preprocessing.optim_preproc_helpers.data_preproc_functions import load_preproc_data_adult\n",
        "from aif360.algorithms.inprocessing import MetaFairClassifier\n",
        "from aif360.datasets import StandardDataset\n",
        "\n",
        "import folktables\n",
        "from folktables import ACSDataSource\n",
        "import pandas as pd\n",
        "\n",
        "from sklearn.model_selection import train_test_split\n",
        "from sklearn.model_selection import KFold\n",
        "from sklearn.linear_model import LogisticRegression\n",
        "from sklearn.neural_network import MLPClassifier\n",
        "\n",
        "from aif360.algorithms.preprocessing.reweighing import Reweighing\n",
        "\n",
        "np.random.seed(12345)\n",
        "\n",
        "def employment_filter(data):\n",
        "    \"\"\"\n",
        "    Filters for the employment prediction task\n",
        "    \"\"\"\n",
        "    df = data\n",
        "    df = df[df['AGEP'] > 16]\n",
        "    df = df[df['AGEP'] < 90]\n",
        "    df = df[df['PWGTP'] >= 1]\n",
        "    return df\n",
        "\n",
        "\n",
        "def load_ACSEmployment(state=\"CA\", is_rm_f=False, rm_sen_f=\"RAC1P\"):\n",
        "    ACSEmployment = folktables.BasicProblem(\n",
        "        features=[\n",
        "            'AGEP', #age; for range of values of features please check Appendix B.4 of\n",
        "            # Retiring Adult: New Datasets for Fair Machine Learning NeurIPS 2021 paper\n",
        "            'SCHL', #educational attainment\n",
        "            'MAR', #marital status\n",
        "            'RELP', #relationship\n",
        "            'DIS', #disability recode\n",
        "            'ESP', #employment status of parents\n",
        "            'CIT', #citizenship status\n",
        "            'MIG', #mobility status (lived here 1 year ago)\n",
        "            'MIL', #military service\n",
        "            'ANC', #ancestry recode\n",
        "            'NATIVITY', #nativity\n",
        "            'DEAR', #hearing difficulty\n",
        "            'DEYE', #vision difficulty\n",
        "            'DREM', #cognitive difficulty\n",
        "            'SEX', #sex\n",
        "            'RAC1P', #recoded detailed race code\n",
        "            'GCL', #grandparents living with grandchildren\n",
        "            ],\n",
        "            target='ESR', #employment status recode\n",
        "            target_transform=lambda x: x == 1,\n",
        "            group='SEX',\n",
        "            preprocess=employment_filter,\n",
        "            postprocess=lambda x: np.nan_to_num(x, -1),\n",
        "    )\n",
        "    data_source = ACSDataSource(survey_year='2018', horizon='1-Year', survey='person')\n",
        "    acs_data = data_source.get_data(states=[state], download=True) #data for California state\n",
        "    features, label, group = ACSEmployment.df_to_numpy(acs_data)\n",
        "\n",
        "    data = pd.DataFrame(features, columns = ACSEmployment.features)\n",
        "    if is_rm_f is True and rm_sen_f is not None: \n",
        "        data = data.drop(rm_sen_f, axis=1) # drop a column\n",
        "    data['label'] = label\n",
        "    favorable_classes = [True]\n",
        "    protected_attribute_names = [ACSEmployment.group]\n",
        "    privileged_classes = np.array([[1]])\n",
        "    data_for_aif = StandardDataset(data, 'label', favorable_classes = favorable_classes,\n",
        "    protected_attribute_names = protected_attribute_names,\n",
        "    privileged_classes = privileged_classes)\n",
        "    privileged_groups = [{'SEX': 1}]\n",
        "    unprivileged_groups = [{'SEX': 2}]\n",
        "    return data_for_aif, privileged_groups, unprivileged_groups\n",
        "\n",
        "def five_fold_split(dataset):\n",
        "    import numpy as np  # 导入numpy包\n",
        "    from sklearn.model_selection import KFold  # 从sklearn导入KFold包\n",
        "    kf = KFold(n_splits=5)\n",
        "    kfold_index = {}\n",
        "    i = 0\n",
        "    for train, val in kf.split(dataset.instance_names):\n",
        "        i += 1\n",
        "        print(f\"{i}折划分: %s %s\" % (train.shape, val.shape))\n",
        "        index = {}\n",
        "        index[\"train\"], index[\"val\"] = train, val\n",
        "        kfold_index[str(i)] = index\n",
        "    return kfold_index\n",
        "\n",
        "def train_model(Standard_scaler, train_train, train_val, c, reweighting, unprivileged_groups, privileged_groups):\n",
        "    train_train_x = Standard_scaler.fit_transform(train_train.features)\n",
        "    train_train_y = train_train.labels.ravel()\n",
        "    train_val_x = Standard_scaler.transform(train_val.features)\n",
        "    train_val_y = train_val.labels.ravel()\n",
        "\n",
        "    if reweighting is True:\n",
        "        model = LogisticRegression(C=c, penalty=\"l2\", solver='liblinear', random_state=1)\n",
        "        model.fit(train_train_x, train_train_y, sample_weight=train_train.instance_weights)\n",
        "    else:\n",
        "        model = LogisticRegression(C=c, penalty=\"l2\", solver='liblinear', random_state=1).fit(train_train_x, train_train_y)\n",
        "    predictions = model.predict(train_val_x)\n",
        "    val_pred = train_val.copy()\n",
        "    val_pred.labels = predictions\n",
        "    metric = ClassificationMetric(train_val, val_pred, unprivileged_groups=unprivileged_groups, privileged_groups=privileged_groups)\n",
        "    # metrics for evaluation mentioned in the doc of this coursework\n",
        "    acc = metric.accuracy()\n",
        "    eod = metric.equal_opportunity_difference()\n",
        "    # other metrics\n",
        "    disparate_impact = metric.statistical_parity_difference()\n",
        "    epo = metric.average_odds_difference()\n",
        "\n",
        "    sr_spe = metric.specificity()\n",
        "    spe = min(sr_spe, 1/sr_spe)\n",
        "\n",
        "    sr_sen = metric.sensitivity()\n",
        "    sen = min(sr_sen, 1/sr_sen)\n",
        "\n",
        "    sr_pre = metric.precision()\n",
        "    sr_rec = metric.recall()\n",
        "    sr_f1_score = 2*(sr_pre*sr_rec)/(sr_pre+sr_rec)\n",
        "    f1_score = min(sr_f1_score, 1/sr_f1_score)\n",
        "\n",
        "    return model, acc, eod, disparate_impact, epo, spe, sen, f1_score, Standard_scaler\n",
        "\n",
        "def plot_my(c_all, all_acc, all_epo, param, fair_m='statistical_parity_difference', best_param=None):\n",
        "    fig, ax1 = plt.subplots(figsize=(10,7))\n",
        "    ax1.plot(c_all, all_acc)\n",
        "    ax1.set_xlabel(param, fontsize=16, fontweight='bold')\n",
        "    ax1.set_ylabel('Accuracy', color='b', fontsize=16, fontweight='bold')\n",
        "    ax1.xaxis.set_tick_params(labelsize=14)\n",
        "    ax1.yaxis.set_tick_params(labelsize=14)\n",
        "\n",
        "\n",
        "    ax2 = ax1.twinx()\n",
        "    ax2.plot(c_all, all_epo, color='r')\n",
        "    ax2.set_ylabel(fair_m, color='r', fontsize=16, fontweight='bold')\n",
        "    if best_param is not None:\n",
        "        ax2.axvline(best_param, color='k', linestyle=':')\n",
        "    ax2.yaxis.set_tick_params(labelsize=14)\n",
        "    ax2.grid(True)     \n",
        "    plt.show()\n",
        "\n",
        "def load_dataset(state=\"NY\", dataset_func=load_ACSEmployment,  **kwargs):\n",
        "  dataset_orig, privileged_groups, unprivileged_groups = dataset_func(state=state,  **kwargs)\n",
        "  if state==\"NY\":\n",
        "    display(Markdown(f\"#### {state} Dataset shape\"))\n",
        "    print(dataset_orig.features.shape)\n",
        "    display(Markdown(\"#### Favorable and unfavorable labels\"))\n",
        "    print(dataset_orig.favorable_label, dataset_orig.unfavorable_label)\n",
        "    display(Markdown(\"#### Protected attribute names\"))\n",
        "    print(dataset_orig.protected_attribute_names)\n",
        "    display(Markdown(\"#### Privileged and unprivileged protected attribute values\"))\n",
        "    print(dataset_orig.privileged_protected_attributes, dataset_orig.unprivileged_protected_attributes)\n",
        "    display(Markdown(\"#### Dataset feature names\"))\n",
        "    print(dataset_orig.feature_names)\n",
        "  return dataset_orig, privileged_groups, unprivileged_groups\n",
        "\n",
        "def check_test(param_pair, test_x, dataset_orig_test, unprivileged_groups, privileged_groups, max_acc_pair, fair_pair1=None, fair_pair2=None, my_pair=None, istask3=False):\n",
        "  if not istask3:\n",
        "    test_c, test_acc, test_eod, test_disparate_impact, test_aod = [], [], [], [], []\n",
        "    for pair in param_pair:\n",
        "        model = pair[0]\n",
        "        test_c.append(pair[1])\n",
        "        predictions = model.predict(test_x)\n",
        "        test_pred = dataset_orig_test.copy()\n",
        "        test_pred.labels = predictions\n",
        "        metric = ClassificationMetric(dataset_orig_test, test_pred, \\\n",
        "                        unprivileged_groups=unprivileged_groups,privileged_groups=privileged_groups)\n",
        "        test_acc.append(metric.accuracy())\n",
        "        test_eod.append(metric.equal_opportunity_difference())\n",
        "\n",
        "        if pair[1] == max_acc_pair[1]:\n",
        "            display(Markdown(\"##### Test the model with the highest accuracy\"))\n",
        "            print(f\"Acc: {metric.accuracy()}, Fair: {metric.equal_opportunity_difference()}\")\n",
        "        if pair[1] == fair_pair1[1]:    \n",
        "            display(Markdown(\"##### Test the model with the best fairness Equal_opportunity_difference\"))\n",
        "            print(f\"Acc: {metric.accuracy()}, Fair: {metric.equal_opportunity_difference()}\") \n",
        "    display(Markdown(\"#### Figures:\"))\n",
        "    plot_my(test_c, test_acc, test_eod, \"C\", fair_m='Equal_opportunity_difference', best_param=max_acc_pair[1])\n",
        "    plot_my(test_c, test_acc, test_eod, \"C\", fair_m='Equal_opportunity_difference', best_param=fair_pair1[1])\n",
        "  elif istask3 and my_pair is not None:\n",
        "    test_c, test_acc, test_eod, test_my = [], [], [], []\n",
        "    for pair in param_pair:\n",
        "        model = pair[0]\n",
        "        test_c.append(pair[1])\n",
        "        predictions = model.predict(test_x)\n",
        "        test_pred = dataset_orig_test.copy()\n",
        "        test_pred.labels = predictions\n",
        "        metric = ClassificationMetric(dataset_orig_test, test_pred, \\\n",
        "                        unprivileged_groups=unprivileged_groups,privileged_groups=privileged_groups)\n",
        "        test_acc.append(metric.accuracy())\n",
        "        test_eod.append(metric.equal_opportunity_difference())\n",
        "        if pair[1] == my_pair[1]:\n",
        "          my_acc, my_fair = metric.accuracy(), metric.equal_opportunity_difference()\n",
        "          display(Markdown(\"##### Test the model with the highest my_strategy_metric\"))\n",
        "          print(f\"Acc: {metric.accuracy()}, Fair: {metric.equal_opportunity_difference()}\")\n",
        "          \n",
        "    display(Markdown(\"#### Figures:\"))\n",
        "    plot_my(test_c, test_acc, test_eod, \"C\", fair_m='Fairness', best_param=my_pair[1])\n",
        "    return my_acc, my_fair\n",
        "  else:\n",
        "    raise Exception(\"Sorry, Wrong input!\")\n",
        "\n",
        "def train_test(reweighting=True, state=\"CA\", **kwargs):\n",
        "  dataset_orig, privileged_groups, unprivileged_groups = load_dataset(state=state, dataset_func=load_ACSEmployment, **kwargs)\n",
        "  dataset_orig_train, dataset_orig_test = dataset_orig.split([0.7], shuffle=True)\n",
        "  display(Markdown(\"#### Training Dataset shape\"))\n",
        "  print(dataset_orig_train.features.shape)\n",
        "  display(Markdown(\"#### Favorable and unfavorable labels\"))\n",
        "  print(dataset_orig_train.favorable_label, dataset_orig_train.unfavorable_label)\n",
        "  display(Markdown(\"#### Protected attribute names\"))\n",
        "  print(dataset_orig_train.protected_attribute_names)\n",
        "  display(Markdown(\"#### Privileged and unprivileged protected attribute values\"))\n",
        "  print(dataset_orig_train.privileged_protected_attributes, \n",
        "            dataset_orig_train.unprivileged_protected_attributes)\n",
        "  display(Markdown(\"#### Dataset feature names\"))\n",
        "  print(dataset_orig_train.feature_names)\n",
        "\n",
        "  kfold_index_dict = five_fold_split(dataset_orig_train)\n",
        "    \n",
        "  Standard_scaler = StandardScaler()\n",
        "  all_acc, all_eod, all_disparate_impact, all_epo, all_spe, all_sen, all_f1_score = [], [], [], [], [], [], []\n",
        "  param_pair = []\n",
        "  c_all = np.arange(0.001, 1, 0.05)\n",
        "  for c in c_all:\n",
        "      accs, eods, disparate_impacts, epos, spes, sens, f1_scores = [], [], [], [], [], [], []\n",
        "      for fold, index_arr in kfold_index_dict.items():\n",
        "          train_train = dataset_orig_train.subset(list(kfold_index_dict[fold]['train']))\n",
        "          train_val = dataset_orig_train.subset(list(kfold_index_dict[fold]['val']))\n",
        "          'reweighting' \n",
        "          if reweighting is True: \n",
        "                RW = Reweighing(unprivileged_groups=unprivileged_groups,\n",
        "                                privileged_groups=privileged_groups).fit(dataset_orig_train)\n",
        "                train_train_transf = RW.transform(train_train)\n",
        "          else:\n",
        "                train_train_transf = train_train\n",
        "          model, acc, eod, disparate_impact, epo, spe, sen, f1_score, Standard_scaler = \\\n",
        "          train_model(Standard_scaler, train_train_transf, train_val, c, reweighting=reweighting, \\\n",
        "                      unprivileged_groups=unprivileged_groups, privileged_groups=privileged_groups) \n",
        "          accs.append(acc)\n",
        "          eods.append(eod)\n",
        "          disparate_impacts.append(disparate_impact)\n",
        "          epos.append(epo)\n",
        "          spes.append(spe)\n",
        "          sens.append(sen)\n",
        "          f1_scores.append(f1_score)\n",
        "      param_pair.append((model, c, np.mean(accs), np.mean(eods), np.mean(disparate_impacts), np.mean(epos), np.mean(spes), np.mean(sens), np.mean(f1_scores)))\n",
        "      all_acc.append(np.mean(accs))\n",
        "      all_eod.append(np.mean(eods))\n",
        "      all_disparate_impact.append(np.mean(disparate_impacts))\n",
        "      all_epo.append(np.mean(epos))\n",
        "      all_spe.append(np.mean(spes))\n",
        "      all_sen.append(np.mean(sens))\n",
        "      all_f1_score.append(np.mean(f1_scores))  \n",
        "  max_acc_pair = max(param_pair, key=lambda x: x[2])\n",
        "  fair_pair1 = min(param_pair, key=lambda x: abs(x[3]))\n",
        "  display(Markdown(\"#### Results on the validation set\"))\n",
        "  print(f\"The highest Acc model(C={max_acc_pair[1]}): Acc: {max_acc_pair[2]}, Equal_opportunity_difference: {max_acc_pair[3]}, Statistical_parity_difference: {max_acc_pair[4]}, and the Aaverage_odds_difference: {max_acc_pair[5]}\")\n",
        "  print(f\"The min abs Equal_opportunity_difference model(C={fair_pair1[1]}): Acc: {fair_pair1[2]}, Equal_opportunity_difference: {max_acc_pair[3]}, Statistical_parity_difference: {fair_pair1[4]}, and the average_odds_difference: {fair_pair1[5]}\")\n",
        "  plot_my(c_all, all_acc, all_eod, \"C\", fair_m='Equal_opportunity_difference')\n",
        "\n",
        "  display(Markdown(\"#### Results on the test set\"))\n",
        "  # CA test fold\n",
        "  test_x = Standard_scaler.transform(dataset_orig_test.features)\n",
        "  test_y = dataset_orig_test.labels.ravel()\n",
        "  # NY test set\n",
        "  NYdataset_orig, NYprivileged_groups, NYunprivileged_groups = load_dataset(state=\"NY\", dataset_func=load_ACSEmployment, **kwargs)\n",
        "  NYtest_x = Standard_scaler.transform(NYdataset_orig.features)\n",
        "  # test\n",
        "  display(Markdown(\"#### Results on the CA test set\"))\n",
        "  check_test(param_pair=param_pair, test_x=test_x, dataset_orig_test=dataset_orig_test, unprivileged_groups=unprivileged_groups, privileged_groups=privileged_groups, max_acc_pair=max_acc_pair, fair_pair1=fair_pair1, fair_pair2=None, my_pair=None, istask3=False)\n",
        "  display(Markdown(\"#### Results on the NY test set\"))\n",
        "  check_test(param_pair, NYtest_x, NYdataset_orig, unprivileged_groups=NYunprivileged_groups, privileged_groups=NYprivileged_groups, max_acc_pair=max_acc_pair, fair_pair1=fair_pair1, fair_pair2=None, my_pair=None, istask3=False)\n",
        "\n",
        "def task3_train_model(Standard_scaler, train_train, train_val, c, reweighting, unprivileged_groups, privileged_groups):\n",
        "    train_train_x = Standard_scaler.fit_transform(train_train.features)\n",
        "    train_train_y = train_train.labels.ravel()\n",
        "    train_val_x = Standard_scaler.transform(train_val.features)\n",
        "    train_val_y = train_val.labels.ravel()\n",
        "\n",
        "    if reweighting is True:\n",
        "        model = LogisticRegression(C=c, penalty=\"l2\", solver='liblinear', random_state=1)\n",
        "        model.fit(train_train_x, train_train_y, sample_weight=train_train.instance_weights)\n",
        "    else:\n",
        "        model = LogisticRegression(C=c, penalty=\"l2\", solver='liblinear', random_state=1).fit(train_train_x, train_train_y)\n",
        "    predictions = model.predict(train_val_x)\n",
        "    val_pred = train_val.copy()\n",
        "    val_pred.labels = predictions\n",
        "    metric = ClassificationMetric(train_val, val_pred, unprivileged_groups=unprivileged_groups, privileged_groups=privileged_groups)\n",
        "    acc = metric.accuracy()\n",
        "    eod = metric.equal_opportunity_difference()\n",
        "    # fair\n",
        "    disparate_impact = metric.statistical_parity_difference()\n",
        "    epo = metric.average_odds_difference()\n",
        "    fair = 1-abs(eod)\n",
        "    fair1 = 1-abs(disparate_impact) \n",
        "    fair2 = 1-abs(epo)\n",
        "    # performance:\n",
        "    spe = metric.specificity()\n",
        "    sen = metric.sensitivity()\n",
        "\n",
        "    sr_pre = metric.precision()\n",
        "    sr_rec = metric.recall()\n",
        "    f1_score = 2*(sr_pre*sr_rec)/(sr_pre+sr_rec)\n",
        "\n",
        "    mix_all = (acc+spe+sen+f1_score+fair+fair1+fair2)/7\n",
        "    mix_fair = (fair+fair1+fair2)/3\n",
        "    mix_acc = (acc+spe+sen+f1_score)/4   \n",
        "    my_strategy_metric0 = np.tanh(np.arctanh(acc)*np.arctanh(fair))\n",
        "    my_strategy_metric1 = np.tanh(acc*0.7+fair*0.3)\n",
        "    my_strategy_metric2 = fair\n",
        "    my_strategy_metric3 = acc\n",
        "    my_strategy_metric = [my_strategy_metric0, my_strategy_metric1, my_strategy_metric2, my_strategy_metric3]\n",
        "\n",
        "    return model, acc, eod, disparate_impact, epo, my_strategy_metric, Standard_scaler\n",
        "\n",
        "def trade_off(acc_fair, metric, thres):\n",
        "  from sklearn.linear_model import LinearRegression\n",
        "  import shapely.geometry as geometry\n",
        "  from descartes import PolygonPatch\n",
        "\n",
        "  acc = [x[0] for x in acc_fair]\n",
        "  met = [x[1] for x in acc_fair]\n",
        "\n",
        "  LR = LinearRegression(fit_intercept=True)\n",
        "  LR.fit(np.array(acc).reshape(-1, 1), np.array(met).reshape(-1, 1))\n",
        "  acc_ = np.arange(0, 1, 0.01)\n",
        "  met_ = LR.predict(np.array(acc_).reshape(-1, 1))\n",
        "  plt.scatter(acc, met)\n",
        "  plt.plot(acc_, met_, c='r')\n",
        "  plt.hlines(thres, 0, 1, linewidth=0.5, linestyles='dotted')\n",
        "  plt.xlim(min(acc)-0.05, max(acc)+0.05)\n",
        "  plt.ylim(min(met)-0.01, max(met)+0.05)\n",
        "  plt.xlabel('% Test Accuracy')\n",
        "  plt.ylabel('% {}'.format(metric))\n",
        "  plt.title('Accuracy-{} Tradeoff'.format(metric) + '\\n' + 'Slope: {}'.format(round(LR.coef_[0][0], 2)))\n",
        "    \n",
        "  point_collection = geometry.MultiPoint(list(acc_fair))\n",
        "  patch = PolygonPatch(point_collection.convex_hull.buffer(0.005), fc='#999999',\n",
        "                         ec='#000000', fill=True,\n",
        "                         zorder=-1)\n",
        "  ax = plt.gca()\n",
        "  ax.add_patch(patch)\n",
        "    \n",
        "  plt.show()\n",
        "\n",
        "\n",
        "def task3(reweighting=True, state=\"CA\",  **kwargs):\n",
        "  dataset_orig, privileged_groups, unprivileged_groups = load_dataset(state=state, dataset_func=load_ACSEmployment, **kwargs)\n",
        "  dataset_orig_train, dataset_orig_test = dataset_orig.split([0.7], shuffle=True)\n",
        "  display(Markdown(\"#### Training Dataset shape\"))\n",
        "  print(dataset_orig_train.features.shape)\n",
        "  display(Markdown(\"#### Favorable and unfavorable labels\"))\n",
        "  print(dataset_orig_train.favorable_label, dataset_orig_train.unfavorable_label)\n",
        "  display(Markdown(\"#### Protected attribute names\"))\n",
        "  print(dataset_orig_train.protected_attribute_names)\n",
        "  display(Markdown(\"#### Privileged and unprivileged protected attribute values\"))\n",
        "  print(dataset_orig_train.privileged_protected_attributes, \n",
        "            dataset_orig_train.unprivileged_protected_attributes)\n",
        "  display(Markdown(\"#### Dataset feature names\"))\n",
        "  print(dataset_orig_train.feature_names)\n",
        "\n",
        "  kfold_index_dict = five_fold_split(dataset_orig_train)\n",
        "    \n",
        "  Standard_scaler = StandardScaler()\n",
        "  all_acc, all_eod, all_disparate_impact, all_epo, all_my_strategy_metric0, \\\n",
        "  all_my_strategy_metric1, all_my_strategy_metric2, all_my_strategy_metric3 = [], [], [], [], [], [], [], []\n",
        "  param_pair = []\n",
        "  acc_fair = []\n",
        "  c_all = np.arange(0.001, 1, 0.05)\n",
        "  for c in c_all:\n",
        "      accs, eods, disparate_impacts, epos, my_strategy_metrics0, \\\n",
        "      my_strategy_metrics1, my_strategy_metrics2, my_strategy_metrics3 = [], [], [], [], [], [], [], []\n",
        "      for fold, index_arr in kfold_index_dict.items():\n",
        "          train_train = dataset_orig_train.subset(list(kfold_index_dict[fold]['train']))\n",
        "          train_val = dataset_orig_train.subset(list(kfold_index_dict[fold]['val']))\n",
        "          'reweighting' \n",
        "          if reweighting is True: \n",
        "                RW = Reweighing(unprivileged_groups=unprivileged_groups,\n",
        "                                privileged_groups=privileged_groups).fit(dataset_orig_train)\n",
        "                train_train_transf = RW.transform(train_train)\n",
        "          else:\n",
        "                train_train_transf = train_train\n",
        "          model, acc, eod, disparate_impact, epo, my_strategy_metric, Standard_scaler = \\\n",
        "          task3_train_model(Standard_scaler, train_train_transf, train_val, c, reweighting=reweighting, \\\n",
        "                      unprivileged_groups=unprivileged_groups, privileged_groups=privileged_groups) \n",
        "          accs.append(acc)\n",
        "          eods.append(eod)\n",
        "          disparate_impacts.append(disparate_impact)\n",
        "          epos.append(epo)\n",
        "          my_strategy_metrics0.append(my_strategy_metric[0])\n",
        "          my_strategy_metrics1.append(my_strategy_metric[1])\n",
        "          my_strategy_metrics2.append(my_strategy_metric[2])\n",
        "          my_strategy_metrics3.append(my_strategy_metric[3])\n",
        "\n",
        "      \n",
        "\n",
        "      param_pair.append((model, c, np.mean(accs), np.mean(eods), np.mean(disparate_impacts), np.mean(epos), \\\n",
        "                         np.mean(my_strategy_metrics0), np.mean(my_strategy_metrics1), \\\n",
        "                         np.mean(my_strategy_metrics2), np.mean(my_strategy_metrics3)))\n",
        "      all_acc.append(np.mean(accs))\n",
        "      all_eod.append(np.mean(eods))\n",
        "\n",
        "      all_disparate_impact.append(np.mean(disparate_impacts))\n",
        "      all_epo.append(np.mean(epos))\n",
        "      all_my_strategy_metric0.append(np.mean(my_strategy_metrics0))\n",
        "      all_my_strategy_metric1.append(np.mean(my_strategy_metrics1))\n",
        "      all_my_strategy_metric2.append(np.mean(my_strategy_metrics2))\n",
        "      all_my_strategy_metric3.append(np.mean(my_strategy_metrics3))\n",
        "\n",
        "      acc_fair.append((np.mean(accs), np.mean(eods)))\n",
        "  \n",
        "  my_pair_best_m0 = max(param_pair, key=lambda x: abs(x[6]))\n",
        "  my_pair_best_m1 = max(param_pair, key=lambda x: abs(x[7]))\n",
        "  my_pair_best_m2 = max(param_pair, key=lambda x: abs(x[8]))\n",
        "  my_pair_best_m3 = max(param_pair, key=lambda x: abs(x[9]))\n",
        "\n",
        "  trade_off(acc_fair, \"Fairness\", 0.05)\n",
        "\n",
        "  # my_strategy_metric0 = np.tanh(np.arctanh(acc)*np.arctanh(fair))\n",
        "  # my_strategy_metric1 = np.tanh(np.arctanh(mix_acc)*np.arctanh(mix_fair))\n",
        "  # my_strategy_metric2 = np.tanh(np.arctanh(mix_all))\n",
        "  # my_strategy_metric3 = acc*0.5 + fair*0.5\n",
        "  suggested_metrics = [all_my_strategy_metric0, all_my_strategy_metric1, all_my_strategy_metric2, all_my_strategy_metric3]\n",
        "  my_pair_best_m = [my_pair_best_m0, my_pair_best_m1, my_pair_best_m2, my_pair_best_m3]\n",
        "  CA_results, NY_results = [], []\n",
        "  for num_suggested_metrics in range(len(my_pair_best_m)):\n",
        "    display(Markdown(f\"### Selection method {num_suggested_metrics}\"))\n",
        "    display(Markdown(f\"#### Selection method{num_suggested_metrics} - Results on the validation set\"))\n",
        "    my_pair = my_pair_best_m[num_suggested_metrics]\n",
        "    print(f\"The model with the best my_strategy_metric(C={my_pair[1]})has achieved Acc: {my_pair[2]}, equal_opportunity_difference: {my_pair[3]}, Statistical_parity_difference: {my_pair[4]}, Average_odds_difference: {my_pair[5]}, My_strategy_metrics:{my_pair[6+num_suggested_metrics]}\")\n",
        "    plot_my(c_all, all_acc, suggested_metrics[num_suggested_metrics], \"C\", fair_m='my_strategy_metric')\n",
        "\n",
        "    # test\n",
        "    display(Markdown(\"#### Results on the test set\"))\n",
        "    test_x = Standard_scaler.transform(dataset_orig_test.features)\n",
        "    test_y = dataset_orig_test.labels.ravel()\n",
        "    # NY test set\n",
        "    NYdataset_orig, NYprivileged_groups, NYunprivileged_groups = load_dataset(state=\"NY\", dataset_func=load_ACSEmployment, **kwargs)\n",
        "    NYtest_x = Standard_scaler.transform(NYdataset_orig.features)\n",
        "    # test\n",
        "    display(Markdown(\"#### Results on the CA test set\"))\n",
        "    CAmy_acc, CAmy_fair = check_test(param_pair=param_pair, test_x=test_x, dataset_orig_test=dataset_orig_test, \\\n",
        "              unprivileged_groups=unprivileged_groups, privileged_groups=privileged_groups, \\\n",
        "              max_acc_pair=None, fair_pair1=None, fair_pair2=None, my_pair=my_pair, istask3=True)\n",
        "    display(Markdown(\"#### Results on the NY test set\"))\n",
        "    NYmy_acc, NYmy_fair = check_test(param_pair=param_pair, test_x=NYtest_x, dataset_orig_test=NYdataset_orig, \\\n",
        "              unprivileged_groups=NYunprivileged_groups, privileged_groups=NYprivileged_groups, \\\n",
        "              max_acc_pair=None, fair_pair1=None, fair_pair2=None, my_pair=my_pair, istask3=True)\n",
        "    CA_results.append((CAmy_acc, CAmy_fair, my_pair[1]))\n",
        "    NY_results.append((NYmy_acc, NYmy_fair, my_pair[1]))\n",
        "\n",
        "  return CA_results, NY_results\n",
        "\n",
        "def plot_scatter(P):\n",
        "  print(P)\n",
        "  import matplotlib.pyplot as plt\n",
        "  points = [[p[0], p[1]] for p in P]\n",
        "  param = [p[2] for p in P]\n",
        "\n",
        "  M_reduced= np.array(points)\n",
        "  word2ind = {'M1': 0, 'M2': 1, 'M3': 2, 'M4': 3}\n",
        "  words = ['M1', 'M2', 'M3', 'M4']\n",
        "  fig = plt.figure()\n",
        "  fig_sub1 = fig.add_subplot(111)\n",
        "  for i in range(len(words)):\n",
        "    fig_sub1.scatter(M_reduced[i,0],M_reduced[i, 1],color='r',marker='o')\n",
        "    plt.annotate(words[i], xy = (M_reduced[word2ind[words[i]], 0], M_reduced[word2ind[words[i]], 1]), xytext = (M_reduced[word2ind[words[i]], 0]+0.001, M_reduced[word2ind[words[i]], 1]+0.001)) \n",
        "  plt.show()\n",
        "\n",
        "\n",
        "if __name__ == \"__main__\":\n",
        "    ############### Task 1   ###########################\n",
        "    # display(Markdown(\"# Task 1: Standard Model\"))\n",
        "    # print(\"Using LOGSTIC REGRESSION\")\n",
        "    # train_test(reweighting=False)\n",
        "    ############### Task 2   ###########################\n",
        "    # display(Markdown(\"# Task 2: Fairness-aware Model\"))\n",
        "    # print(\"Using LOGSTIC REGRESSION and REWEIGHTING\")\n",
        "    # train_test(reweighting=True)\n",
        "\n",
        "    ############### Task 3   ###########################\n",
        "    display(Markdown(\"# Task 3: Model Selection Strategy\"))\n",
        "    display(Markdown(\"#### 1) Suggest a model selection strategy (criterion) that accounts for both accuracy and fairness.\"))\n",
        "    display(Markdown(\"#### 2) Compare the standard model versus the fairness-aware model using the proposed criterion\"))\n",
        "    display(Markdown(\"#### 3) Accuracy and fairness for both models on the test set.\"))\n",
        "    print(\"Standard Model\")\n",
        "    CA_results, NY_results = task3(reweighting=False)\n",
        "    print(\"CA\")\n",
        "    plot_scatter(CA_results)\n",
        "    print(\"NY\")\n",
        "    plot_scatter(NY_results)   \n",
        "    print(\"Fairness-aware Model\")\n",
        "    CA_results, NY_results = task3(reweighting=True)\n",
        "    print(\"CA\")\n",
        "    plot_scatter(CA_results)\n",
        "    print(\"NY\")\n",
        "    plot_scatter(NY_results)\n",
        "    ############### Other tasks ###########################\n",
        "    # display(Markdown(\"# Task 4: test on data for New York (states=[”NY”]\"))\n",
        "    # display(Markdown(\"#### Implemented in previous tasks 1-3\"))\n",
        "\n",
        "    # display(Markdown(\"# Task 5: Exclude RAC1P from the features of X. and analyse how this change the performance of the models 1-6\"))\n",
        "    # display(Markdown(\"#### Model 1-2: Standard Model(task1)\"))\n",
        "    # train_test(reweighting=False, is_rm_f=True, rm_sen_f=\"RAC1P\")\n",
        "    # display(Markdown(\"#### Model 2-4: Fairness-aware Model(task2)\"))\n",
        "    # print(\"Using LOGSTIC REGRESSION and REWEIGHTING\")\n",
        "    # train_test(reweighting=True, is_rm_f=True, rm_sen_f=\"RAC1P\")\n",
        "    # display(Markdown(\"#### Model 4-6: task3\"))\n",
        "    # print(\"4-Standard Model\")\n",
        "    # task3(reweighting=False, is_rm_f=True, rm_sen_f=\"RAC1P\")\n",
        "    # print(\"6-Fairness-aware Model\")\n",
        "    # task3(reweighting=True, is_rm_f=True, rm_sen_f=\"RAC1P\")\n",
        "\n",
        "\n",
        "\n"
      ]
    },
    {
      "cell_type": "code",
      "source": [],
      "metadata": {
        "id": "UgktJl6JuAeG"
      },
      "execution_count": null,
      "outputs": []
    },
    {
      "cell_type": "code",
      "source": [
        "def plot_scatter(P):\n",
        "  print(P)\n",
        "  import matplotlib.pyplot as plt\n",
        "  points = [[p[0], p[1]] for p in P]\n",
        "  param = [p[2] for p in P]\n",
        "\n",
        "  M_reduced= np.array(points)\n",
        "  word2ind = {'M1': 0, 'M2': 1, 'M3': 2, 'M4': 3}\n",
        "  words = ['M1', 'M2', 'M3', 'M4']\n",
        "  fig = plt.figure()\n",
        "  fig_sub1 = fig.add_subplot(111)\n",
        "  for i in range(len(words)):\n",
        "    fig_sub1.scatter(M_reduced[i,0],M_reduced[i, 1],color='r',marker='o')\n",
        "    plt.annotate(words[i], xy = (M_reduced[word2ind[words[i]], 0], M_reduced[word2ind[words[i]], 1]), xytext = (M_reduced[word2ind[words[i]], 0]+0.001, M_reduced[word2ind[words[i]], 1]+0.001)) \n",
        "  plt.show()\n",
        "P = [(0.7391571361428795, -0.11942312736970118, 1), (0.7391571361428795, -0.11942312736970118, 1), (0.7391571361428795, -0.11942312736970118, 1), (0.7395331348895504, -0.12419677783161176, 1)]\n",
        "plot_scatter(P)"
      ],
      "metadata": {
        "colab": {
          "base_uri": "https://localhost:8080/",
          "height": 343
        },
        "id": "diz_DwPuRNeD",
        "outputId": "c52c959b-094d-4a70-85c6-450a3e8e4a17"
      },
      "execution_count": null,
      "outputs": [
        {
          "output_type": "stream",
          "name": "stdout",
          "text": [
            "[(0.7391571361428795, -0.11942312736970118, 1), (0.7391571361428795, -0.11942312736970118, 1), (0.7391571361428795, -0.11942312736970118, 1), (0.7395331348895504, -0.12419677783161176, 1)]\n"
          ]
        },
        {
          "output_type": "display_data",
          "data": {
            "text/plain": [
              "<Figure size 432x288 with 1 Axes>"
            ],
            "image/png": "[encoded data removed]"
          },
          "metadata": {
            "needs_background": "light"
          }
        }
      ]
    },
    {
      "cell_type": "code",
      "source": [
        "import matplotlib.pyplot as plt\n",
        "x = np.linspace(0.001, 1)\n",
        "plt.plot(x, np.arctanh(x), c='b')\n",
        "plt.axis('tight')\n",
        "plt.show()\n",
        "\n",
        "import matplotlib.pyplot as plt\n",
        "x = np.linspace(0.001, 1)\n",
        "plt.plot(x, np.arctanh(x)*np.arctanh(x), c='b')\n",
        "plt.axis('tight')\n",
        "plt.show()\n",
        "\n",
        "import matplotlib.pyplot as plt\n",
        "x = np.linspace(0.001, 1)\n",
        "plt.plot(x, np.tanh(x), c='b')\n",
        "plt.axis('tight')\n",
        "plt.show()"
      ],
      "metadata": {
        "colab": {
          "base_uri": "https://localhost:8080/",
          "height": 797
        },
        "id": "euZh7QagC3uq",
        "outputId": "e8f13109-7a02-47be-d859-cd68ab8137d1"
      },
      "execution_count": null,
      "outputs": [
        {
          "output_type": "stream",
          "name": "stderr",
          "text": [
            "divide by zero encountered in arctanh\n"
          ]
        },
        {
          "output_type": "display_data",
          "data": {
            "text/plain": [
              "<Figure size 432x288 with 1 Axes>"
            ],
            "image/png": "[encoded data removed]"
          },
          "metadata": {
            "needs_background": "light"
          }
        },
        {
          "output_type": "stream",
          "name": "stderr",
          "text": [
            "divide by zero encountered in arctanh\n"
          ]
        },
        {
          "output_type": "display_data",
          "data": {
            "text/plain": [
              "<Figure size 432x288 with 1 Axes>"
            ],
            "image/png": "[encoded data removed]"
          },
          "metadata": {
            "needs_background": "light"
          }
        },
        {
          "output_type": "display_data",
          "data": {
            "text/plain": [
              "<Figure size 432x288 with 1 Axes>"
            ],
            "image/png": "[encoded data removed]"
          },
          "metadata": {
            "needs_background": "light"
          }
        }
      ]
    },
    {
      "cell_type": "code",
      "source": [
        "'''\n",
        "Coursework 1 - Caiwen Xu -  Fair classification.\n",
        "'''\n",
        "!pip install folktables\n",
        "!pip install aif360\n",
        "!pip install aif360[LawSchoolGPA]\n",
        "!pip install aif360[Reductions]\n",
        "!pip install aif360[Reductions]\n",
        "!pip install aif360[Reductions]\n",
        "\n",
        "from IPython.display import Markdown, display\n",
        "import matplotlib.pyplot as plt\n",
        "import numpy as np\n",
        "from sklearn.preprocessing import MaxAbsScaler, StandardScaler\n",
        "from tqdm import tqdm\n",
        "\n",
        "from aif360.metrics import BinaryLabelDatasetMetric\n",
        "from aif360.metrics import ClassificationMetric\n",
        "from aif360.algorithms.preprocessing.optim_preproc_helpers.data_preproc_functions import load_preproc_data_adult\n",
        "from aif360.algorithms.inprocessing import MetaFairClassifier\n",
        "from aif360.datasets import StandardDataset\n",
        "\n",
        "import folktables\n",
        "from folktables import ACSDataSource\n",
        "import pandas as pd\n",
        "\n",
        "from sklearn.model_selection import train_test_split\n",
        "from sklearn.model_selection import KFold\n",
        "from sklearn.linear_model import LogisticRegression\n",
        "from sklearn.neural_network import MLPClassifier\n",
        "\n",
        "from aif360.algorithms.preprocessing.reweighing import Reweighing\n",
        "\n",
        "np.random.seed(12345)\n",
        "\n",
        "def employment_filter(data):\n",
        "    \"\"\"\n",
        "    Filters for the employment prediction task\n",
        "    \"\"\"\n",
        "    df = data\n",
        "    df = df[df['AGEP'] > 16]\n",
        "    df = df[df['AGEP'] < 90]\n",
        "    df = df[df['PWGTP'] >= 1]\n",
        "    return df\n",
        "\n",
        "\n",
        "def load_ACSEmployment(state=\"CA\", is_rm_f=False, rm_sen_f=\"RAC1P\"):\n",
        "    ACSEmployment = folktables.BasicProblem(\n",
        "        features=[\n",
        "            'AGEP', #age; for range of values of features please check Appendix B.4 of\n",
        "            # Retiring Adult: New Datasets for Fair Machine Learning NeurIPS 2021 paper\n",
        "            'SCHL', #educational attainment\n",
        "            'MAR', #marital status\n",
        "            'RELP', #relationship\n",
        "            'DIS', #disability recode\n",
        "            'ESP', #employment status of parents\n",
        "            'CIT', #citizenship status\n",
        "            'MIG', #mobility status (lived here 1 year ago)\n",
        "            'MIL', #military service\n",
        "            'ANC', #ancestry recode\n",
        "            'NATIVITY', #nativity\n",
        "            'DEAR', #hearing difficulty\n",
        "            'DEYE', #vision difficulty\n",
        "            'DREM', #cognitive difficulty\n",
        "            'SEX', #sex\n",
        "            'RAC1P', #recoded detailed race code\n",
        "            'GCL', #grandparents living with grandchildren\n",
        "            ],\n",
        "            target='ESR', #employment status recode\n",
        "            target_transform=lambda x: x == 1,\n",
        "            group='SEX',\n",
        "            preprocess=employment_filter,\n",
        "            postprocess=lambda x: np.nan_to_num(x, -1),\n",
        "    )\n",
        "    data_source = ACSDataSource(survey_year='2018', horizon='1-Year', survey='person')\n",
        "    acs_data = data_source.get_data(states=[state], download=True) #data for California state\n",
        "    features, label, group = ACSEmployment.df_to_numpy(acs_data)\n",
        "\n",
        "    data = pd.DataFrame(features, columns = ACSEmployment.features)\n",
        "    if is_rm_f is True and rm_sen_f is not None: \n",
        "        data = data.drop(rm_sen_f, axis=1) # drop a column\n",
        "    data['label'] = label\n",
        "    favorable_classes = [True]\n",
        "    protected_attribute_names = [ACSEmployment.group]\n",
        "    privileged_classes = np.array([[1]])\n",
        "    data_for_aif = StandardDataset(data, 'label', favorable_classes = favorable_classes,\n",
        "    protected_attribute_names = protected_attribute_names,\n",
        "    privileged_classes = privileged_classes)\n",
        "    privileged_groups = [{'SEX': 1}]\n",
        "    unprivileged_groups = [{'SEX': 2}]\n",
        "    return data_for_aif, privileged_groups, unprivileged_groups\n",
        "\n",
        "def five_fold_split(dataset):\n",
        "    import numpy as np  # 导入numpy包\n",
        "    from sklearn.model_selection import KFold  # 从sklearn导入KFold包\n",
        "    kf = KFold(n_splits=5)\n",
        "    kfold_index = {}\n",
        "    i = 0\n",
        "    for train, val in kf.split(dataset.instance_names):\n",
        "        i += 1\n",
        "        print(f\"{i}折划分: %s %s\" % (train.shape, val.shape))\n",
        "        index = {}\n",
        "        index[\"train\"], index[\"val\"] = train, val\n",
        "        kfold_index[str(i)] = index\n",
        "    return kfold_index\n",
        "\n",
        "def train_model(Standard_scaler, train_train, train_val, c, reweighting, unprivileged_groups, privileged_groups):\n",
        "    train_train_x = Standard_scaler.fit_transform(train_train.features)\n",
        "    train_train_y = train_train.labels.ravel()\n",
        "    train_val_x = Standard_scaler.transform(train_val.features)\n",
        "    train_val_y = train_val.labels.ravel()\n",
        "\n",
        "    if reweighting is True:\n",
        "        model = LogisticRegression(C=c, penalty=\"l2\", solver='liblinear', random_state=1)\n",
        "        model.fit(train_train_x, train_train_y, sample_weight=train_train.instance_weights)\n",
        "    else:\n",
        "        model = LogisticRegression(C=c, penalty=\"l2\", solver='liblinear', random_state=1).fit(train_train_x, train_train_y)\n",
        "    predictions = model.predict(train_val_x)\n",
        "    val_pred = train_val.copy()\n",
        "    val_pred.labels = predictions\n",
        "    metric = ClassificationMetric(train_val, val_pred, unprivileged_groups=unprivileged_groups, privileged_groups=privileged_groups)\n",
        "    # metrics for evaluation mentioned in the doc of this coursework\n",
        "    acc = metric.accuracy()\n",
        "    eod = metric.equal_opportunity_difference()\n",
        "    # other metrics\n",
        "    disparate_impact = metric.statistical_parity_difference()\n",
        "    epo = metric.average_odds_difference()\n",
        "\n",
        "    sr_spe = metric.specificity()\n",
        "    spe = min(sr_spe, 1/sr_spe)\n",
        "\n",
        "    sr_sen = metric.sensitivity()\n",
        "    sen = min(sr_sen, 1/sr_sen)\n",
        "\n",
        "    sr_pre = metric.precision()\n",
        "    sr_rec = metric.recall()\n",
        "    sr_f1_score = 2*(sr_pre*sr_rec)/(sr_pre+sr_rec)\n",
        "    f1_score = min(sr_f1_score, 1/sr_f1_score)\n",
        "\n",
        "    return model, acc, eod, disparate_impact, epo, spe, sen, f1_score, Standard_scaler\n",
        "\n",
        "def plot_my(c_all, all_acc, all_epo, param, fair_m='statistical_parity_difference', best_param=None):\n",
        "    fig, ax1 = plt.subplots(figsize=(10,7))\n",
        "    ax1.plot(c_all, all_acc)\n",
        "    ax1.set_xlabel(param, fontsize=16, fontweight='bold')\n",
        "    ax1.set_ylabel('Accuracy', color='b', fontsize=16, fontweight='bold')\n",
        "    ax1.xaxis.set_tick_params(labelsize=14)\n",
        "    ax1.yaxis.set_tick_params(labelsize=14)\n",
        "\n",
        "\n",
        "    ax2 = ax1.twinx()\n",
        "    ax2.plot(c_all, all_epo, color='r')\n",
        "    ax2.set_ylabel(fair_m, color='r', fontsize=16, fontweight='bold')\n",
        "    if best_param is not None:\n",
        "        ax2.axvline(best_param, color='k', linestyle=':')\n",
        "    ax2.yaxis.set_tick_params(labelsize=14)\n",
        "    ax2.grid(True)     \n",
        "    plt.show()\n",
        "\n",
        "def load_dataset(state=\"NY\", dataset_func=load_ACSEmployment,  **kwargs):\n",
        "  dataset_orig, privileged_groups, unprivileged_groups = dataset_func(state=state,  **kwargs)\n",
        "  if state==\"NY\":\n",
        "    display(Markdown(f\"#### {state} Dataset shape\"))\n",
        "    print(dataset_orig.features.shape)\n",
        "    display(Markdown(\"#### Favorable and unfavorable labels\"))\n",
        "    print(dataset_orig.favorable_label, dataset_orig.unfavorable_label)\n",
        "    display(Markdown(\"#### Protected attribute names\"))\n",
        "    print(dataset_orig.protected_attribute_names)\n",
        "    display(Markdown(\"#### Privileged and unprivileged protected attribute values\"))\n",
        "    print(dataset_orig.privileged_protected_attributes, dataset_orig.unprivileged_protected_attributes)\n",
        "    display(Markdown(\"#### Dataset feature names\"))\n",
        "    print(dataset_orig.feature_names)\n",
        "  return dataset_orig, privileged_groups, unprivileged_groups\n",
        "\n",
        "def check_test(param_pair, test_x, dataset_orig_test, unprivileged_groups, privileged_groups, max_acc_pair, fair_pair1=None, fair_pair2=None, my_pair=None, istask3=False):\n",
        "  if not istask3:\n",
        "    test_c, test_acc, test_eod, test_disparate_impact, test_aod = [], [], [], [], []\n",
        "    for pair in param_pair:\n",
        "        model = pair[0]\n",
        "        test_c.append(pair[1])\n",
        "        predictions = model.predict(test_x)\n",
        "        test_pred = dataset_orig_test.copy()\n",
        "        test_pred.labels = predictions\n",
        "        metric = ClassificationMetric(dataset_orig_test, test_pred, \\\n",
        "                        unprivileged_groups=unprivileged_groups,privileged_groups=privileged_groups)\n",
        "        test_acc.append(metric.accuracy())\n",
        "        test_eod.append(metric.equal_opportunity_difference())\n",
        "\n",
        "        if pair[1] == max_acc_pair[1]:\n",
        "            display(Markdown(\"##### Test the model with the highest accuracy\"))\n",
        "            print(f\"Acc: {metric.accuracy()}, Fair: {metric.equal_opportunity_difference()}\")\n",
        "        if pair[1] == fair_pair1[1]:    \n",
        "            display(Markdown(\"##### Test the model with the best fairness Equal_opportunity_difference\"))\n",
        "            print(f\"Acc: {metric.accuracy()}, Fair: {metric.equal_opportunity_difference()}\") \n",
        "    display(Markdown(\"#### Figures:\"))\n",
        "    plot_my(test_c, test_acc, test_eod, \"C\", fair_m='Equal_opportunity_difference', best_param=max_acc_pair[1])\n",
        "    plot_my(test_c, test_acc, test_eod, \"C\", fair_m='Equal_opportunity_difference', best_param=fair_pair1[1])\n",
        "  elif istask3 and my_pair is not None:\n",
        "    test_c, test_acc, test_eod, test_my = [], [], [], []\n",
        "    for pair in param_pair:\n",
        "        model = pair[0]\n",
        "        test_c.append(pair[1])\n",
        "        predictions = model.predict(test_x)\n",
        "        test_pred = dataset_orig_test.copy()\n",
        "        test_pred.labels = predictions\n",
        "        metric = ClassificationMetric(dataset_orig_test, test_pred, \\\n",
        "                        unprivileged_groups=unprivileged_groups,privileged_groups=privileged_groups)\n",
        "        test_acc.append(metric.accuracy())\n",
        "        test_eod.append(metric.equal_opportunity_difference())\n",
        "        if pair[1] == my_pair[1]:\n",
        "          my_acc, my_fair = metric.accuracy(), metric.equal_opportunity_difference()\n",
        "          display(Markdown(\"##### Test the model with the highest my_strategy_metric\"))\n",
        "          print(f\"Acc: {metric.accuracy()}, Fair: {metric.equal_opportunity_difference()}\")\n",
        "          \n",
        "    display(Markdown(\"#### Figures:\"))\n",
        "    plot_my(test_c, test_acc, test_eod, \"C\", fair_m='Fairness', best_param=my_pair[1])\n",
        "    return my_acc, my_fair\n",
        "  else:\n",
        "    raise Exception(\"Sorry, Wrong input!\")\n",
        "\n",
        "def train_test(reweighting=True, state=\"CA\", **kwargs):\n",
        "  dataset_orig, privileged_groups, unprivileged_groups = load_dataset(state=state, dataset_func=load_ACSEmployment, **kwargs)\n",
        "  dataset_orig_train, dataset_orig_test = dataset_orig.split([0.7], shuffle=True)\n",
        "  display(Markdown(\"#### Training Dataset shape\"))\n",
        "  print(dataset_orig_train.features.shape)\n",
        "  display(Markdown(\"#### Favorable and unfavorable labels\"))\n",
        "  print(dataset_orig_train.favorable_label, dataset_orig_train.unfavorable_label)\n",
        "  display(Markdown(\"#### Protected attribute names\"))\n",
        "  print(dataset_orig_train.protected_attribute_names)\n",
        "  display(Markdown(\"#### Privileged and unprivileged protected attribute values\"))\n",
        "  print(dataset_orig_train.privileged_protected_attributes, \n",
        "            dataset_orig_train.unprivileged_protected_attributes)\n",
        "  display(Markdown(\"#### Dataset feature names\"))\n",
        "  print(dataset_orig_train.feature_names)\n",
        "\n",
        "  kfold_index_dict = five_fold_split(dataset_orig_train)\n",
        "    \n",
        "  Standard_scaler = StandardScaler()\n",
        "  all_acc, all_eod, all_disparate_impact, all_epo, all_spe, all_sen, all_f1_score = [], [], [], [], [], [], []\n",
        "  param_pair = []\n",
        "  c_all = np.arange(0.001, 0.5, 0.05)\n",
        "  for c in c_all:\n",
        "      accs, eods, disparate_impacts, epos, spes, sens, f1_scores = [], [], [], [], [], [], []\n",
        "      for fold, index_arr in kfold_index_dict.items():\n",
        "          train_train = dataset_orig_train.subset(list(kfold_index_dict[fold]['train']))\n",
        "          train_val = dataset_orig_train.subset(list(kfold_index_dict[fold]['val']))\n",
        "          'reweighting' \n",
        "          if reweighting is True: \n",
        "                RW = Reweighing(unprivileged_groups=unprivileged_groups,\n",
        "                                privileged_groups=privileged_groups).fit(dataset_orig_train)\n",
        "                train_train_transf = RW.transform(train_train)\n",
        "          else:\n",
        "                train_train_transf = train_train\n",
        "          model, acc, eod, disparate_impact, epo, spe, sen, f1_score, Standard_scaler = \\\n",
        "          train_model(Standard_scaler, train_train_transf, train_val, c, reweighting=reweighting, \\\n",
        "                      unprivileged_groups=unprivileged_groups, privileged_groups=privileged_groups) \n",
        "          accs.append(acc)\n",
        "          eods.append(eod)\n",
        "          disparate_impacts.append(disparate_impact)\n",
        "          epos.append(epo)\n",
        "          spes.append(spe)\n",
        "          sens.append(sen)\n",
        "          f1_scores.append(f1_score)\n",
        "      param_pair.append((model, c, np.mean(accs), np.mean(eods), np.mean(disparate_impacts), np.mean(epos), np.mean(spes), np.mean(sens), np.mean(f1_scores)))\n",
        "      all_acc.append(np.mean(accs))\n",
        "      all_eod.append(np.mean(eods))\n",
        "      all_disparate_impact.append(np.mean(disparate_impacts))\n",
        "      all_epo.append(np.mean(epos))\n",
        "      all_spe.append(np.mean(spes))\n",
        "      all_sen.append(np.mean(sens))\n",
        "      all_f1_score.append(np.mean(f1_scores))  \n",
        "  max_acc_pair = max(param_pair, key=lambda x: x[2])\n",
        "  fair_pair1 = min(param_pair, key=lambda x: abs(x[3]))\n",
        "  display(Markdown(\"#### Results on the validation set\"))\n",
        "  print(f\"The highest Acc model(C={max_acc_pair[1]}): Acc: {max_acc_pair[2]}, Equal_opportunity_difference: {max_acc_pair[3]}, Statistical_parity_difference: {max_acc_pair[4]}, and the Aaverage_odds_difference: {max_acc_pair[5]}\")\n",
        "  print(f\"The min abs Equal_opportunity_difference model(C={fair_pair1[1]}): Acc: {fair_pair1[2]}, Equal_opportunity_difference: {fair_pair1[3]}, Statistical_parity_difference: {fair_pair1[4]}, and the average_odds_difference: {fair_pair1[5]}\")\n",
        "  plot_my(c_all, all_acc, all_eod, \"C\", fair_m='Equal_opportunity_difference')\n",
        "\n",
        "  display(Markdown(\"#### Results on the test set\"))\n",
        "  # CA test fold\n",
        "  test_x = Standard_scaler.transform(dataset_orig_test.features)\n",
        "  test_y = dataset_orig_test.labels.ravel()\n",
        "  # NY test set\n",
        "  NYdataset_orig, NYprivileged_groups, NYunprivileged_groups = load_dataset(state=\"NY\", dataset_func=load_ACSEmployment, **kwargs)\n",
        "  NYtest_x = Standard_scaler.transform(NYdataset_orig.features)\n",
        "  # test\n",
        "  display(Markdown(\"#### Results on the CA test set\"))\n",
        "  check_test(param_pair=param_pair, test_x=test_x, dataset_orig_test=dataset_orig_test, unprivileged_groups=unprivileged_groups, privileged_groups=privileged_groups, max_acc_pair=max_acc_pair, fair_pair1=fair_pair1, fair_pair2=None, my_pair=None, istask3=False)\n",
        "  display(Markdown(\"#### Results on the NY test set\"))\n",
        "  check_test(param_pair, NYtest_x, NYdataset_orig, unprivileged_groups=NYunprivileged_groups, privileged_groups=NYprivileged_groups, max_acc_pair=max_acc_pair, fair_pair1=fair_pair1, fair_pair2=None, my_pair=None, istask3=False)\n",
        "\n",
        "def task3_train_model(Standard_scaler, train_train, train_val, c, reweighting, unprivileged_groups, privileged_groups):\n",
        "    train_train_x = Standard_scaler.fit_transform(train_train.features)\n",
        "    train_train_y = train_train.labels.ravel()\n",
        "    train_val_x = Standard_scaler.transform(train_val.features)\n",
        "    train_val_y = train_val.labels.ravel()\n",
        "\n",
        "    if reweighting is True:\n",
        "        model = LogisticRegression(C=c, penalty=\"l2\", solver='liblinear', random_state=1)\n",
        "        model.fit(train_train_x, train_train_y, sample_weight=train_train.instance_weights)\n",
        "    else:\n",
        "        model = LogisticRegression(C=c, penalty=\"l2\", solver='liblinear', random_state=1).fit(train_train_x, train_train_y)\n",
        "    predictions = model.predict(train_val_x)\n",
        "    val_pred = train_val.copy()\n",
        "    val_pred.labels = predictions\n",
        "    metric = ClassificationMetric(train_val, val_pred, unprivileged_groups=unprivileged_groups, privileged_groups=privileged_groups)\n",
        "    acc = metric.accuracy()\n",
        "    eod = metric.equal_opportunity_difference()\n",
        "    # fair\n",
        "    disparate_impact = metric.statistical_parity_difference()\n",
        "    epo = metric.average_odds_difference()\n",
        "    fair = 1-abs(eod)\n",
        "    fair1 = 1-abs(disparate_impact) \n",
        "    fair2 = 1-abs(epo)\n",
        "    # performance:\n",
        "    spe = metric.specificity()\n",
        "    sen = metric.sensitivity()\n",
        "\n",
        "    sr_pre = metric.precision()\n",
        "    sr_rec = metric.recall()\n",
        "    f1_score = 2*(sr_pre*sr_rec)/(sr_pre+sr_rec)\n",
        "\n",
        "    mix_all = (spe+sen+f1_score+fair+fair1+fair2)/6\n",
        "    mix_fair = (fair+fair1+fair2)/3\n",
        "    mix_acc = (spe+sen+f1_score)/3   \n",
        "    my_strategy_metric0 = np.tanh(np.arctanh(acc)*np.arctanh(fair))\n",
        "    my_strategy_metric1 = np.tanh(np.arctanh(mix_acc)*np.arctanh(mix_fair))\n",
        "    my_strategy_metric2 = np.tanh(np.arctanh(acc)*np.arctanh(fair)*np.arctanh(fair1)*np.arctanh(fair2)*np.arctanh(spe)*np.arctanh(sen)*np.arctanh(f1_score))\n",
        "    # my_strategy_metric2 = max(0.123-abs(eod), 0)/(0.123-abs(eod))*acc\n",
        "    my_strategy_metric3 = mix_all\n",
        "    my_strategy_metric = [my_strategy_metric0, my_strategy_metric1, my_strategy_metric2, my_strategy_metric3]\n",
        "\n",
        "    return model, acc, eod, disparate_impact, epo, my_strategy_metric, Standard_scaler\n",
        "\n",
        "def trade_off(acc_fair, metric, thres):\n",
        "  from sklearn.linear_model import LinearRegression\n",
        "  import shapely.geometry as geometry\n",
        "  from shapely.geometry import Polygon\n",
        "  from descartes import PolygonPatch\n",
        "\n",
        "  acc = [x[0] for x in acc_fair]\n",
        "  met = [x[1] for x in acc_fair]\n",
        "\n",
        "  LR = LinearRegression(fit_intercept=True)\n",
        "  LR.fit(np.array(acc).reshape(-1, 1), np.array(met).reshape(-1, 1))\n",
        "  acc_ = np.arange(0.5, 1, 0.001)\n",
        "  met_ = LR.predict(np.array(acc_).reshape(-1, 1))\n",
        "  plt.scatter(acc, met)\n",
        "  plt.plot(acc_, met_, c='r')\n",
        "  plt.hlines(thres, 0, 1, linewidth=0.5, linestyles='dotted')\n",
        "  plt.xlim(min(acc)-0.0002, max(acc)+0.0002)\n",
        "  plt.ylim(min(met)-0.0002, max(met)+0.0002)\n",
        "  plt.xlabel('Test Accuracy')\n",
        "  plt.ylabel('{}'.format(metric))\n",
        "  plt.title('Accuracy-{} Tradeoff'.format(metric) + '\\n' + 'Slope: {}'.format(round(LR.coef_[0][0], 2)))  \n",
        "  plt.show()\n",
        "\n",
        "\n",
        "def task3(reweighting=True, state=\"CA\",  **kwargs):\n",
        "  dataset_orig, privileged_groups, unprivileged_groups = load_dataset(state=state, dataset_func=load_ACSEmployment, **kwargs)\n",
        "  dataset_orig_train, dataset_orig_test = dataset_orig.split([0.7], shuffle=True)\n",
        "  display(Markdown(\"#### Training Dataset shape\"))\n",
        "  print(dataset_orig_train.features.shape)\n",
        "  display(Markdown(\"#### Favorable and unfavorable labels\"))\n",
        "  print(dataset_orig_train.favorable_label, dataset_orig_train.unfavorable_label)\n",
        "  display(Markdown(\"#### Protected attribute names\"))\n",
        "  print(dataset_orig_train.protected_attribute_names)\n",
        "  display(Markdown(\"#### Privileged and unprivileged protected attribute values\"))\n",
        "  print(dataset_orig_train.privileged_protected_attributes, \n",
        "            dataset_orig_train.unprivileged_protected_attributes)\n",
        "  display(Markdown(\"#### Dataset feature names\"))\n",
        "  print(dataset_orig_train.feature_names)\n",
        "\n",
        "  kfold_index_dict = five_fold_split(dataset_orig_train)\n",
        "    \n",
        "  Standard_scaler = StandardScaler()\n",
        "  all_acc, all_eod, all_disparate_impact, all_epo, all_my_strategy_metric0, \\\n",
        "  all_my_strategy_metric1, all_my_strategy_metric2, all_my_strategy_metric3 = [], [], [], [], [], [], [], []\n",
        "  param_pair = []\n",
        "  acc_fair = []\n",
        "  my_fair1, my_fair2, my_fair3, my_fair4 = [], [], [], []\n",
        "  c_all = np.arange(0.001, 0.5, 0.05)\n",
        "  for c in c_all:\n",
        "      accs, eods, disparate_impacts, epos, my_strategy_metrics0, \\\n",
        "      my_strategy_metrics1, my_strategy_metrics2, my_strategy_metrics3 = [], [], [], [], [], [], [], []\n",
        "      for fold, index_arr in kfold_index_dict.items():\n",
        "          train_train = dataset_orig_train.subset(list(kfold_index_dict[fold]['train']))\n",
        "          train_val = dataset_orig_train.subset(list(kfold_index_dict[fold]['val']))\n",
        "          'reweighting' \n",
        "          if reweighting is True: \n",
        "                RW = Reweighing(unprivileged_groups=unprivileged_groups,\n",
        "                                privileged_groups=privileged_groups).fit(dataset_orig_train)\n",
        "                train_train_transf = RW.transform(train_train)\n",
        "          else:\n",
        "                train_train_transf = train_train\n",
        "          model, acc, eod, disparate_impact, epo, my_strategy_metric, Standard_scaler = \\\n",
        "          task3_train_model(Standard_scaler, train_train_transf, train_val, c, reweighting=reweighting, \\\n",
        "                      unprivileged_groups=unprivileged_groups, privileged_groups=privileged_groups) \n",
        "          accs.append(acc)\n",
        "          eods.append(eod)\n",
        "          disparate_impacts.append(disparate_impact)\n",
        "          epos.append(epo)\n",
        "          my_strategy_metrics0.append(my_strategy_metric[0])\n",
        "          my_strategy_metrics1.append(my_strategy_metric[1])\n",
        "          my_strategy_metrics2.append(my_strategy_metric[2])\n",
        "          my_strategy_metrics3.append(my_strategy_metric[3])\n",
        "\n",
        "      \n",
        "\n",
        "      param_pair.append((model, c, np.mean(accs), np.mean(eods), np.mean(disparate_impacts), np.mean(epos), \\\n",
        "                         np.mean(my_strategy_metrics0), np.mean(my_strategy_metrics1), \\\n",
        "                         np.mean(my_strategy_metrics2), np.mean(my_strategy_metrics3)))\n",
        "      all_acc.append(np.mean(accs))\n",
        "      all_eod.append(np.mean(eods))\n",
        "\n",
        "      all_disparate_impact.append(np.mean(disparate_impacts))\n",
        "      all_epo.append(np.mean(epos))\n",
        "      all_my_strategy_metric0.append(np.mean(my_strategy_metrics0))\n",
        "      all_my_strategy_metric1.append(np.mean(my_strategy_metrics1))\n",
        "      all_my_strategy_metric2.append(np.mean(my_strategy_metrics2))\n",
        "      all_my_strategy_metric3.append(np.mean(my_strategy_metrics3))\n",
        "\n",
        "      acc_fair.append((np.mean(accs), abs(np.mean(eods))))\n",
        "      my_fair1.append((np.mean(accs), -np.mean(my_strategy_metrics0)))\n",
        "      my_fair2.append((np.mean(accs), -np.mean(my_strategy_metrics1)))\n",
        "      my_fair3.append((np.mean(accs), -np.mean(my_strategy_metrics2)))\n",
        "      my_fair4.append((np.mean(accs), -np.mean(my_strategy_metrics3)))\n",
        "  \n",
        "  my_pair_best_m0 = max(param_pair, key=lambda x: abs(x[6]))\n",
        "  my_pair_best_m1 = max(param_pair, key=lambda x: abs(x[7]))\n",
        "  my_pair_best_m2 = max(param_pair, key=lambda x: abs(x[8]))\n",
        "  my_pair_best_m3 = max(param_pair, key=lambda x: abs(x[9]))\n",
        "\n",
        "  trade_off(acc_fair, \"-Fairness\", 0.1135)\n",
        "  trade_off(my_fair1, \"-Fairness\", 0.05)\n",
        "  trade_off(my_fair2, \"-Fairness\", 0.05)\n",
        "  trade_off(my_fair3, \"-Fairness\", 0.05)\n",
        "  trade_off(my_fair4, \"-Fairness\", 0.05)\n",
        "\n",
        "  suggested_metrics = [all_my_strategy_metric0, all_my_strategy_metric1, all_my_strategy_metric2, all_my_strategy_metric3]\n",
        "  my_pair_best_m = [my_pair_best_m0, my_pair_best_m1, my_pair_best_m2, my_pair_best_m3]\n",
        "  CA_results, NY_results = [], []\n",
        "  for num_suggested_metrics in range(len(my_pair_best_m)):\n",
        "    display(Markdown(f\"### Selection method {num_suggested_metrics}\"))\n",
        "    display(Markdown(f\"#### Selection method{num_suggested_metrics} - Results on the validation set\"))\n",
        "    my_pair = my_pair_best_m[num_suggested_metrics]\n",
        "    print(f\"The model with the best my_strategy_metric(C={my_pair[1]})has achieved Acc: {my_pair[2]}, equal_opportunity_difference: {my_pair[3]}, Statistical_parity_difference: {my_pair[4]}, Average_odds_difference: {my_pair[5]}, My_strategy_metrics:{my_pair[6+num_suggested_metrics]}\")\n",
        "    plot_my(c_all, all_acc, suggested_metrics[num_suggested_metrics], \"C\", fair_m='my_strategy_metric')\n",
        "\n",
        "    # test\n",
        "    display(Markdown(\"#### Results on the test set\"))\n",
        "    test_x = Standard_scaler.transform(dataset_orig_test.features)\n",
        "    test_y = dataset_orig_test.labels.ravel()\n",
        "    # NY test set\n",
        "    NYdataset_orig, NYprivileged_groups, NYunprivileged_groups = load_dataset(state=\"NY\", dataset_func=load_ACSEmployment, **kwargs)\n",
        "    NYtest_x = Standard_scaler.transform(NYdataset_orig.features)\n",
        "    # test\n",
        "    display(Markdown(\"#### Results on the CA test set\"))\n",
        "    CAmy_acc, CAmy_fair = check_test(param_pair=param_pair, test_x=test_x, dataset_orig_test=dataset_orig_test, \\\n",
        "              unprivileged_groups=unprivileged_groups, privileged_groups=privileged_groups, \\\n",
        "              max_acc_pair=None, fair_pair1=None, fair_pair2=None, my_pair=my_pair, istask3=True)\n",
        "    display(Markdown(\"#### Results on the NY test set\"))\n",
        "    NYmy_acc, NYmy_fair = check_test(param_pair=param_pair, test_x=NYtest_x, dataset_orig_test=NYdataset_orig, \\\n",
        "              unprivileged_groups=NYunprivileged_groups, privileged_groups=NYprivileged_groups, \\\n",
        "              max_acc_pair=None, fair_pair1=None, fair_pair2=None, my_pair=my_pair, istask3=True)\n",
        "    CA_results.append((CAmy_acc, CAmy_fair, my_pair[1]))\n",
        "    NY_results.append((NYmy_acc, NYmy_fair, my_pair[1]))\n",
        "\n",
        "  return CA_results, NY_results\n",
        "\n",
        "def plot_scatter(P):\n",
        "  print(P)\n",
        "  import matplotlib.pyplot as plt\n",
        "  points = [[p[0], p[1]] for p in P]\n",
        "  param = [p[2] for p in P]\n",
        "\n",
        "  M_reduced= np.array(points)\n",
        "  word2ind = {'M1': 0, 'M2': 1, 'M3': 2, 'M4': 3}\n",
        "  words = ['M1', 'M2', 'M3', 'M4']\n",
        "  fig = plt.figure()\n",
        "  fig_sub1 = fig.add_subplot(111)\n",
        "  for i in range(len(words)):\n",
        "    fig_sub1.scatter(M_reduced[i,0],M_reduced[i, 1],color='r',marker='o')\n",
        "    plt.annotate(words[i], xy = (M_reduced[word2ind[words[i]], 0], M_reduced[word2ind[words[i]], 1]), xytext = (M_reduced[word2ind[words[i]], 0]+0.001, M_reduced[word2ind[words[i]], 1]+0.001)) \n",
        "  plt.show()\n",
        "\n",
        "\n",
        "if __name__ == \"__main__\":\n",
        "    ############### Task 1   ###########################\n",
        "    display(Markdown(\"# Task 1: Standard Model\"))\n",
        "    print(\"Using LOGSTIC REGRESSION\")\n",
        "    train_test(reweighting=False)\n",
        "    ############### Task 2   ###########################\n",
        "    display(Markdown(\"# Task 2: Fairness-aware Model\"))\n",
        "    print(\"Using LOGSTIC REGRESSION and REWEIGHTING\")\n",
        "    train_test(reweighting=True)\n",
        "\n",
        "    ############### Task 3   ###########################\n",
        "    display(Markdown(\"# Task 3: Model Selection Strategy\"))\n",
        "    display(Markdown(\"#### 1) Suggest a model selection strategy (criterion) that accounts for both accuracy and fairness.\"))\n",
        "    display(Markdown(\"#### 2) Compare the standard model versus the fairness-aware model using the proposed criterion\"))\n",
        "    display(Markdown(\"#### 3) Accuracy and fairness for both models on the test set.\"))\n",
        "    print(\"Standard Model\")\n",
        "    CA_results, NY_results = task3(reweighting=False)  \n",
        "    print(\"Fairness-aware Model\")\n",
        "    CA_results, NY_results = task3(reweighting=True)\n",
        "    ############### Other tasks ###########################\n",
        "    display(Markdown(\"# Task 4: test on data for New York (states=[”NY”]\"))\n",
        "    display(Markdown(\"#### Implemented in previous tasks 1-3\"))\n",
        "\n",
        "    display(Markdown(\"# Task 5: Exclude RAC1P from the features of X. and analyse how this change the performance of the models 1-6\"))\n",
        "    display(Markdown(\"#### Model 1-2: Standard Model(task1)\"))\n",
        "    train_test(reweighting=False, is_rm_f=True, rm_sen_f=\"RAC1P\")\n",
        "    display(Markdown(\"#### Model 2-4: Fairness-aware Model(task2)\"))\n",
        "    print(\"Using LOGSTIC REGRESSION and REWEIGHTING\")\n",
        "    train_test(reweighting=True, is_rm_f=True, rm_sen_f=\"RAC1P\")\n",
        "    display(Markdown(\"#### Model 4-6: task3\"))\n",
        "    print(\"4-Standard Model\")\n",
        "    task3(reweighting=False, is_rm_f=True, rm_sen_f=\"RAC1P\")\n",
        "    print(\"6-Fairness-aware Model\")\n",
        "    task3(reweighting=True, is_rm_f=True, rm_sen_f=\"RAC1P\")\n",
        "\n"
      ],
      "metadata": {
        "colab": {
          "base_uri": "https://localhost:8080/",
          "height": 1000
        },
        "id": "R2EJBem6uClF",
        "outputId": "fa8860b0-b94b-4a89-e8ea-058daadca737"
      },
      "execution_count": null,
      "outputs": [
        {
          "output_type": "stream",
          "name": "stdout",
          "text": [
            "Looking in indexes: https://pypi.org/simple, https://us-python.pkg.dev/colab-wheels/public/simple/\n",
            "Collecting folktables\n",
            "  Downloading folktables-0.0.12-py3-none-any.whl (17 kB)\n",
            "Requirement already satisfied: requests in /usr/local/lib/python3.8/dist-packages (from folktables) (2.25.1)\n",
            "Requirement already satisfied: pandas in /usr/local/lib/python3.8/dist-packages (from folktables) (1.3.5)\n",
            "Requirement already satisfied: scikit-learn in /usr/local/lib/python3.8/dist-packages (from folktables) (1.0.2)\n",
            "Requirement already satisfied: numpy in /usr/local/lib/python3.8/dist-packages (from folktables) (1.21.6)\n",
            "Requirement already satisfied: pytz>=2017.3 in /usr/local/lib/python3.8/dist-packages (from pandas->folktables) (2022.7.1)\n",
            "Requirement already satisfied: python-dateutil>=2.7.3 in /usr/local/lib/python3.8/dist-packages (from pandas->folktables) (2.8.2)\n",
            "Requirement already satisfied: urllib3<1.27,>=1.21.1 in /usr/local/lib/python3.8/dist-packages (from requests->folktables) (1.24.3)\n",
            "Requirement already satisfied: certifi>=2017.4.17 in /usr/local/lib/python3.8/dist-packages (from requests->folktables) (2022.12.7)\n",
            "Requirement already satisfied: idna<3,>=2.5 in /usr/local/lib/python3.8/dist-packages (from requests->folktables) (2.10)\n",
            "Requirement already satisfied: chardet<5,>=3.0.2 in /usr/local/lib/python3.8/dist-packages (from requests->folktables) (4.0.0)\n",
            "Requirement already satisfied: threadpoolctl>=2.0.0 in /usr/local/lib/python3.8/dist-packages (from scikit-learn->folktables) (3.1.0)\n",
            "Requirement already satisfied: scipy>=1.1.0 in /usr/local/lib/python3.8/dist-packages (from scikit-learn->folktables) (1.7.3)\n",
            "Requirement already satisfied: joblib>=0.11 in /usr/local/lib/python3.8/dist-packages (from scikit-learn->folktables) (1.2.0)\n",
            "Requirement already satisfied: six>=1.5 in /usr/local/lib/python3.8/dist-packages (from python-dateutil>=2.7.3->pandas->folktables) (1.15.0)\n",
            "Installing collected packages: folktables\n",
            "Successfully installed folktables-0.0.12\n",
            "Looking in indexes: https://pypi.org/simple, https://us-python.pkg.dev/colab-wheels/public/simple/\n",
            "Collecting aif360\n",
            "  Downloading aif360-0.5.0-py3-none-any.whl (214 kB)\n",
            "\u001b[2K     \u001b[90m━━━━━━━━━━━━━━━━━━━━━━━━━━━━━━━━━━━━━━━\u001b[0m \u001b[32m214.1/214.1 KB\u001b[0m \u001b[31m4.9 MB/s\u001b[0m eta \u001b[36m0:00:00\u001b[0m\n",
            "\u001b[?25hRequirement already satisfied: scikit-learn>=1.0 in /usr/local/lib/python3.8/dist-packages (from aif360) (1.0.2)\n",
            "Requirement already satisfied: matplotlib in /usr/local/lib/python3.8/dist-packages (from aif360) (3.2.2)\n",
            "Requirement already satisfied: scipy>=1.2.0 in /usr/local/lib/python3.8/dist-packages (from aif360) (1.7.3)\n",
            "Requirement already satisfied: numpy>=1.16 in /usr/local/lib/python3.8/dist-packages (from aif360) (1.21.6)\n",
            "Requirement already satisfied: pandas>=0.24.0 in /usr/local/lib/python3.8/dist-packages (from aif360) (1.3.5)\n",
            "Requirement already satisfied: pytz>=2017.3 in /usr/local/lib/python3.8/dist-packages (from pandas>=0.24.0->aif360) (2022.7.1)\n",
            "Requirement already satisfied: python-dateutil>=2.7.3 in /usr/local/lib/python3.8/dist-packages (from pandas>=0.24.0->aif360) (2.8.2)\n",
            "Requirement already satisfied: threadpoolctl>=2.0.0 in /usr/local/lib/python3.8/dist-packages (from scikit-learn>=1.0->aif360) (3.1.0)\n",
            "Requirement already satisfied: joblib>=0.11 in /usr/local/lib/python3.8/dist-packages (from scikit-learn>=1.0->aif360) (1.2.0)\n",
            "Requirement already satisfied: kiwisolver>=1.0.1 in /usr/local/lib/python3.8/dist-packages (from matplotlib->aif360) (1.4.4)\n",
            "Requirement already satisfied: pyparsing!=2.0.4,!=2.1.2,!=2.1.6,>=2.0.1 in /usr/local/lib/python3.8/dist-packages (from matplotlib->aif360) (3.0.9)\n",
            "Requirement already satisfied: cycler>=0.10 in /usr/local/lib/python3.8/dist-packages (from matplotlib->aif360) (0.11.0)\n",
            "Requirement already satisfied: six>=1.5 in /usr/local/lib/python3.8/dist-packages (from python-dateutil>=2.7.3->pandas>=0.24.0->aif360) (1.15.0)\n",
            "Installing collected packages: aif360\n",
            "Successfully installed aif360-0.5.0\n",
            "Looking in indexes: https://pypi.org/simple, https://us-python.pkg.dev/colab-wheels/public/simple/\n",
            "Requirement already satisfied: aif360[LawSchoolGPA] in /usr/local/lib/python3.8/dist-packages (0.5.0)\n",
            "Requirement already satisfied: scikit-learn>=1.0 in /usr/local/lib/python3.8/dist-packages (from aif360[LawSchoolGPA]) (1.0.2)\n",
            "Requirement already satisfied: pandas>=0.24.0 in /usr/local/lib/python3.8/dist-packages (from aif360[LawSchoolGPA]) (1.3.5)\n",
            "Requirement already satisfied: numpy>=1.16 in /usr/local/lib/python3.8/dist-packages (from aif360[LawSchoolGPA]) (1.21.6)\n",
            "Requirement already satisfied: matplotlib in /usr/local/lib/python3.8/dist-packages (from aif360[LawSchoolGPA]) (3.2.2)\n",
            "Requirement already satisfied: scipy>=1.2.0 in /usr/local/lib/python3.8/dist-packages (from aif360[LawSchoolGPA]) (1.7.3)\n",
            "Collecting tempeh\n",
            "  Downloading tempeh-0.1.12-py3-none-any.whl (39 kB)\n",
            "Requirement already satisfied: python-dateutil>=2.7.3 in /usr/local/lib/python3.8/dist-packages (from pandas>=0.24.0->aif360[LawSchoolGPA]) (2.8.2)\n",
            "Requirement already satisfied: pytz>=2017.3 in /usr/local/lib/python3.8/dist-packages (from pandas>=0.24.0->aif360[LawSchoolGPA]) (2022.7.1)\n",
            "Requirement already satisfied: joblib>=0.11 in /usr/local/lib/python3.8/dist-packages (from scikit-learn>=1.0->aif360[LawSchoolGPA]) (1.2.0)\n",
            "Requirement already satisfied: threadpoolctl>=2.0.0 in /usr/local/lib/python3.8/dist-packages (from scikit-learn>=1.0->aif360[LawSchoolGPA]) (3.1.0)\n",
            "Requirement already satisfied: kiwisolver>=1.0.1 in /usr/local/lib/python3.8/dist-packages (from matplotlib->aif360[LawSchoolGPA]) (1.4.4)\n",
            "Requirement already satisfied: cycler>=0.10 in /usr/local/lib/python3.8/dist-packages (from matplotlib->aif360[LawSchoolGPA]) (0.11.0)\n",
            "Requirement already satisfied: pyparsing!=2.0.4,!=2.1.2,!=2.1.6,>=2.0.1 in /usr/local/lib/python3.8/dist-packages (from matplotlib->aif360[LawSchoolGPA]) (3.0.9)\n",
            "Collecting shap\n",
            "  Downloading shap-0.41.0-cp38-cp38-manylinux_2_12_x86_64.manylinux2010_x86_64.whl (575 kB)\n",
            "\u001b[2K     \u001b[90m━━━━━━━━━━━━━━━━━━━━━━━━━━━━━━━━━━━━━━\u001b[0m \u001b[32m575.9/575.9 KB\u001b[0m \u001b[31m10.9 MB/s\u001b[0m eta \u001b[36m0:00:00\u001b[0m\n",
            "\u001b[?25hRequirement already satisfied: pytest in /usr/local/lib/python3.8/dist-packages (from tempeh->aif360[LawSchoolGPA]) (3.6.4)\n",
            "Collecting memory-profiler\n",
            "  Downloading memory_profiler-0.61.0-py3-none-any.whl (31 kB)\n",
            "Requirement already satisfied: requests in /usr/local/lib/python3.8/dist-packages (from tempeh->aif360[LawSchoolGPA]) (2.25.1)\n",
            "Requirement already satisfied: six>=1.5 in /usr/local/lib/python3.8/dist-packages (from python-dateutil>=2.7.3->pandas>=0.24.0->aif360[LawSchoolGPA]) (1.15.0)\n",
            "Requirement already satisfied: psutil in /usr/local/lib/python3.8/dist-packages (from memory-profiler->tempeh->aif360[LawSchoolGPA]) (5.4.8)\n",
            "Requirement already satisfied: attrs>=17.4.0 in /usr/local/lib/python3.8/dist-packages (from pytest->tempeh->aif360[LawSchoolGPA]) (22.2.0)\n",
            "Requirement already satisfied: py>=1.5.0 in /usr/local/lib/python3.8/dist-packages (from pytest->tempeh->aif360[LawSchoolGPA]) (1.11.0)\n",
            "Requirement already satisfied: setuptools in /usr/local/lib/python3.8/dist-packages (from pytest->tempeh->aif360[LawSchoolGPA]) (57.4.0)\n",
            "Requirement already satisfied: more-itertools>=4.0.0 in /usr/local/lib/python3.8/dist-packages (from pytest->tempeh->aif360[LawSchoolGPA]) (9.0.0)\n",
            "Requirement already satisfied: pluggy<0.8,>=0.5 in /usr/local/lib/python3.8/dist-packages (from pytest->tempeh->aif360[LawSchoolGPA]) (0.7.1)\n",
            "Requirement already satisfied: atomicwrites>=1.0 in /usr/local/lib/python3.8/dist-packages (from pytest->tempeh->aif360[LawSchoolGPA]) (1.4.1)\n",
            "Requirement already satisfied: chardet<5,>=3.0.2 in /usr/local/lib/python3.8/dist-packages (from requests->tempeh->aif360[LawSchoolGPA]) (4.0.0)\n",
            "Requirement already satisfied: idna<3,>=2.5 in /usr/local/lib/python3.8/dist-packages (from requests->tempeh->aif360[LawSchoolGPA]) (2.10)\n",
            "Requirement already satisfied: urllib3<1.27,>=1.21.1 in /usr/local/lib/python3.8/dist-packages (from requests->tempeh->aif360[LawSchoolGPA]) (1.24.3)\n",
            "Requirement already satisfied: certifi>=2017.4.17 in /usr/local/lib/python3.8/dist-packages (from requests->tempeh->aif360[LawSchoolGPA]) (2022.12.7)\n",
            "Requirement already satisfied: cloudpickle in /usr/local/lib/python3.8/dist-packages (from shap->tempeh->aif360[LawSchoolGPA]) (2.2.1)\n",
            "Requirement already satisfied: packaging>20.9 in /usr/local/lib/python3.8/dist-packages (from shap->tempeh->aif360[LawSchoolGPA]) (23.0)\n",
            "Collecting slicer==0.0.7\n",
            "  Downloading slicer-0.0.7-py3-none-any.whl (14 kB)\n",
            "Requirement already satisfied: numba in /usr/local/lib/python3.8/dist-packages (from shap->tempeh->aif360[LawSchoolGPA]) (0.56.4)\n",
            "Requirement already satisfied: tqdm>4.25.0 in /usr/local/lib/python3.8/dist-packages (from shap->tempeh->aif360[LawSchoolGPA]) (4.64.1)\n",
            "Requirement already satisfied: llvmlite<0.40,>=0.39.0dev0 in /usr/local/lib/python3.8/dist-packages (from numba->shap->tempeh->aif360[LawSchoolGPA]) (0.39.1)\n",
            "Requirement already satisfied: importlib-metadata in /usr/local/lib/python3.8/dist-packages (from numba->shap->tempeh->aif360[LawSchoolGPA]) (6.0.0)\n",
            "Requirement already satisfied: zipp>=0.5 in /usr/local/lib/python3.8/dist-packages (from importlib-metadata->numba->shap->tempeh->aif360[LawSchoolGPA]) (3.12.1)\n",
            "Installing collected packages: slicer, memory-profiler, shap, tempeh\n",
            "Successfully installed memory-profiler-0.61.0 shap-0.41.0 slicer-0.0.7 tempeh-0.1.12\n",
            "Looking in indexes: https://pypi.org/simple, https://us-python.pkg.dev/colab-wheels/public/simple/\n",
            "Requirement already satisfied: aif360[Reductions] in /usr/local/lib/python3.8/dist-packages (0.5.0)\n",
            "Requirement already satisfied: scikit-learn>=1.0 in /usr/local/lib/python3.8/dist-packages (from aif360[Reductions]) (1.0.2)\n",
            "Requirement already satisfied: matplotlib in /usr/local/lib/python3.8/dist-packages (from aif360[Reductions]) (3.2.2)\n",
            "Requirement already satisfied: pandas>=0.24.0 in /usr/local/lib/python3.8/dist-packages (from aif360[Reductions]) (1.3.5)\n",
            "Requirement already satisfied: scipy>=1.2.0 in /usr/local/lib/python3.8/dist-packages (from aif360[Reductions]) (1.7.3)\n",
            "Requirement already satisfied: numpy>=1.16 in /usr/local/lib/python3.8/dist-packages (from aif360[Reductions]) (1.21.6)\n",
            "Collecting fairlearn~=0.7\n",
            "  Downloading fairlearn-0.8.0-py3-none-any.whl (235 kB)\n",
            "\u001b[2K     \u001b[90m━━━━━━━━━━━━━━━━━━━━━━━━━━━━━━━━━━━━━━━\u001b[0m \u001b[32m235.0/235.0 KB\u001b[0m \u001b[31m6.0 MB/s\u001b[0m eta \u001b[36m0:00:00\u001b[0m\n",
            "\u001b[?25hRequirement already satisfied: python-dateutil>=2.7.3 in /usr/local/lib/python3.8/dist-packages (from pandas>=0.24.0->aif360[Reductions]) (2.8.2)\n",
            "Requirement already satisfied: pytz>=2017.3 in /usr/local/lib/python3.8/dist-packages (from pandas>=0.24.0->aif360[Reductions]) (2022.7.1)\n",
            "Requirement already satisfied: threadpoolctl>=2.0.0 in /usr/local/lib/python3.8/dist-packages (from scikit-learn>=1.0->aif360[Reductions]) (3.1.0)\n",
            "Requirement already satisfied: joblib>=0.11 in /usr/local/lib/python3.8/dist-packages (from scikit-learn>=1.0->aif360[Reductions]) (1.2.0)\n",
            "Requirement already satisfied: cycler>=0.10 in /usr/local/lib/python3.8/dist-packages (from matplotlib->aif360[Reductions]) (0.11.0)\n",
            "Requirement already satisfied: kiwisolver>=1.0.1 in /usr/local/lib/python3.8/dist-packages (from matplotlib->aif360[Reductions]) (1.4.4)\n",
            "Requirement already satisfied: pyparsing!=2.0.4,!=2.1.2,!=2.1.6,>=2.0.1 in /usr/local/lib/python3.8/dist-packages (from matplotlib->aif360[Reductions]) (3.0.9)\n",
            "Requirement already satisfied: six>=1.5 in /usr/local/lib/python3.8/dist-packages (from python-dateutil>=2.7.3->pandas>=0.24.0->aif360[Reductions]) (1.15.0)\n",
            "Installing collected packages: fairlearn\n",
            "Successfully installed fairlearn-0.8.0\n",
            "Looking in indexes: https://pypi.org/simple, https://us-python.pkg.dev/colab-wheels/public/simple/\n",
            "Requirement already satisfied: aif360[Reductions] in /usr/local/lib/python3.8/dist-packages (0.5.0)\n",
            "Requirement already satisfied: matplotlib in /usr/local/lib/python3.8/dist-packages (from aif360[Reductions]) (3.2.2)\n",
            "Requirement already satisfied: scipy>=1.2.0 in /usr/local/lib/python3.8/dist-packages (from aif360[Reductions]) (1.7.3)\n",
            "Requirement already satisfied: scikit-learn>=1.0 in /usr/local/lib/python3.8/dist-packages (from aif360[Reductions]) (1.0.2)\n",
            "Requirement already satisfied: pandas>=0.24.0 in /usr/local/lib/python3.8/dist-packages (from aif360[Reductions]) (1.3.5)\n",
            "Requirement already satisfied: numpy>=1.16 in /usr/local/lib/python3.8/dist-packages (from aif360[Reductions]) (1.21.6)\n",
            "Requirement already satisfied: fairlearn~=0.7 in /usr/local/lib/python3.8/dist-packages (from aif360[Reductions]) (0.8.0)\n",
            "Requirement already satisfied: python-dateutil>=2.7.3 in /usr/local/lib/python3.8/dist-packages (from pandas>=0.24.0->aif360[Reductions]) (2.8.2)\n",
            "Requirement already satisfied: pytz>=2017.3 in /usr/local/lib/python3.8/dist-packages (from pandas>=0.24.0->aif360[Reductions]) (2022.7.1)\n",
            "Requirement already satisfied: threadpoolctl>=2.0.0 in /usr/local/lib/python3.8/dist-packages (from scikit-learn>=1.0->aif360[Reductions]) (3.1.0)\n",
            "Requirement already satisfied: joblib>=0.11 in /usr/local/lib/python3.8/dist-packages (from scikit-learn>=1.0->aif360[Reductions]) (1.2.0)\n",
            "Requirement already satisfied: kiwisolver>=1.0.1 in /usr/local/lib/python3.8/dist-packages (from matplotlib->aif360[Reductions]) (1.4.4)\n",
            "Requirement already satisfied: cycler>=0.10 in /usr/local/lib/python3.8/dist-packages (from matplotlib->aif360[Reductions]) (0.11.0)\n",
            "Requirement already satisfied: pyparsing!=2.0.4,!=2.1.2,!=2.1.6,>=2.0.1 in /usr/local/lib/python3.8/dist-packages (from matplotlib->aif360[Reductions]) (3.0.9)\n",
            "Requirement already satisfied: six>=1.5 in /usr/local/lib/python3.8/dist-packages (from python-dateutil>=2.7.3->pandas>=0.24.0->aif360[Reductions]) (1.15.0)\n",
            "Looking in indexes: https://pypi.org/simple, https://us-python.pkg.dev/colab-wheels/public/simple/\n",
            "Requirement already satisfied: aif360[Reductions] in /usr/local/lib/python3.8/dist-packages (0.5.0)\n",
            "Requirement already satisfied: pandas>=0.24.0 in /usr/local/lib/python3.8/dist-packages (from aif360[Reductions]) (1.3.5)\n",
            "Requirement already satisfied: numpy>=1.16 in /usr/local/lib/python3.8/dist-packages (from aif360[Reductions]) (1.21.6)\n",
            "Requirement already satisfied: scipy>=1.2.0 in /usr/local/lib/python3.8/dist-packages (from aif360[Reductions]) (1.7.3)\n",
            "Requirement already satisfied: matplotlib in /usr/local/lib/python3.8/dist-packages (from aif360[Reductions]) (3.2.2)\n",
            "Requirement already satisfied: scikit-learn>=1.0 in /usr/local/lib/python3.8/dist-packages (from aif360[Reductions]) (1.0.2)\n",
            "Requirement already satisfied: fairlearn~=0.7 in /usr/local/lib/python3.8/dist-packages (from aif360[Reductions]) (0.8.0)\n",
            "Requirement already satisfied: pytz>=2017.3 in /usr/local/lib/python3.8/dist-packages (from pandas>=0.24.0->aif360[Reductions]) (2022.7.1)\n",
            "Requirement already satisfied: python-dateutil>=2.7.3 in /usr/local/lib/python3.8/dist-packages (from pandas>=0.24.0->aif360[Reductions]) (2.8.2)\n",
            "Requirement already satisfied: joblib>=0.11 in /usr/local/lib/python3.8/dist-packages (from scikit-learn>=1.0->aif360[Reductions]) (1.2.0)\n",
            "Requirement already satisfied: threadpoolctl>=2.0.0 in /usr/local/lib/python3.8/dist-packages (from scikit-learn>=1.0->aif360[Reductions]) (3.1.0)\n",
            "Requirement already satisfied: pyparsing!=2.0.4,!=2.1.2,!=2.1.6,>=2.0.1 in /usr/local/lib/python3.8/dist-packages (from matplotlib->aif360[Reductions]) (3.0.9)\n",
            "Requirement already satisfied: cycler>=0.10 in /usr/local/lib/python3.8/dist-packages (from matplotlib->aif360[Reductions]) (0.11.0)\n",
            "Requirement already satisfied: kiwisolver>=1.0.1 in /usr/local/lib/python3.8/dist-packages (from matplotlib->aif360[Reductions]) (1.4.4)\n",
            "Requirement already satisfied: six>=1.5 in /usr/local/lib/python3.8/dist-packages (from python-dateutil>=2.7.3->pandas>=0.24.0->aif360[Reductions]) (1.15.0)\n"
          ]
        },
        {
          "output_type": "display_data",
          "data": {
            "text/plain": [
              "<IPython.core.display.Markdown object>"
            ],
            "text/markdown": "# Task 1: Standard Model"
          },
          "metadata": {}
        },
        {
          "output_type": "stream",
          "name": "stdout",
          "text": [
            "Using LOGSTIC REGRESSION\n",
            "Downloading data for 2018 1-Year person survey for CA...\n"
          ]
        },
        {
          "output_type": "display_data",
          "data": {
            "text/plain": [
              "<IPython.core.display.Markdown object>"
            ],
            "text/markdown": "#### Training Dataset shape"
          },
          "metadata": {}
        },
        {
          "output_type": "stream",
          "name": "stdout",
          "text": [
            "(211848, 17)\n"
          ]
        },
        {
          "output_type": "display_data",
          "data": {
            "text/plain": [
              "<IPython.core.display.Markdown object>"
            ],
            "text/markdown": "#### Favorable and unfavorable labels"
          },
          "metadata": {}
        },
        {
          "output_type": "stream",
          "name": "stdout",
          "text": [
            "1.0 0.0\n"
          ]
        },
        {
          "output_type": "display_data",
          "data": {
            "text/plain": [
              "<IPython.core.display.Markdown object>"
            ],
            "text/markdown": "#### Protected attribute names"
          },
          "metadata": {}
        },
        {
          "output_type": "stream",
          "name": "stdout",
          "text": [
            "['SEX']\n"
          ]
        },
        {
          "output_type": "display_data",
          "data": {
            "text/plain": [
              "<IPython.core.display.Markdown object>"
            ],
            "text/markdown": "#### Privileged and unprivileged protected attribute values"
          },
          "metadata": {}
        },
        {
          "output_type": "stream",
          "name": "stdout",
          "text": [
            "[array([1.])] [array([2.])]\n"
          ]
        },
        {
          "output_type": "display_data",
          "data": {
            "text/plain": [
              "<IPython.core.display.Markdown object>"
            ],
            "text/markdown": "#### Dataset feature names"
          },
          "metadata": {}
        },
        {
          "output_type": "stream",
          "name": "stdout",
          "text": [
            "['AGEP', 'SCHL', 'MAR', 'RELP', 'DIS', 'ESP', 'CIT', 'MIG', 'MIL', 'ANC', 'NATIVITY', 'DEAR', 'DEYE', 'DREM', 'SEX', 'RAC1P', 'GCL']\n",
            "1折划分: (169478,) (42370,)\n",
            "2折划分: (169478,) (42370,)\n",
            "3折划分: (169478,) (42370,)\n",
            "4折划分: (169479,) (42369,)\n",
            "5折划分: (169479,) (42369,)\n"
          ]
        },
        {
          "output_type": "display_data",
          "data": {
            "text/plain": [
              "<IPython.core.display.Markdown object>"
            ],
            "text/markdown": "#### Results on the validation set"
          },
          "metadata": {}
        },
        {
          "output_type": "stream",
          "name": "stdout",
          "text": [
            "The highest Acc model(C=0.401): Acc: 0.7292256722247502, Equal_opportunity_difference: -0.11851628740563154, Statistical_parity_difference: -0.14219827489406972, and the Aaverage_odds_difference: -0.10162427059997299\n",
            "The min abs Equal_opportunity_difference model(C=0.001): Acc: 0.7290132571121093, Equal_opportunity_difference: -0.11317609028197573, Statistical_parity_difference: -0.1388297871567781, and the average_odds_difference: -0.09876319321924357\n"
          ]
        },
        {
          "output_type": "display_data",
          "data": {
            "text/plain": [
              "<Figure size 720x504 with 2 Axes>"
            ],
            "image/png": "[encoded data removed]"
          },
          "metadata": {
            "needs_background": "light"
          }
        },
        {
          "output_type": "display_data",
          "data": {
            "text/plain": [
              "<IPython.core.display.Markdown object>"
            ],
            "text/markdown": "#### Results on the test set"
          },
          "metadata": {}
        },
        {
          "output_type": "stream",
          "name": "stdout",
          "text": [
            "Downloading data for 2018 1-Year person survey for NY...\n"
          ]
        },
        {
          "output_type": "display_data",
          "data": {
            "text/plain": [
              "<IPython.core.display.Markdown object>"
            ],
            "text/markdown": "#### NY Dataset shape"
          },
          "metadata": {}
        },
        {
          "output_type": "stream",
          "name": "stdout",
          "text": [
            "(159575, 17)\n"
          ]
        },
        {
          "output_type": "display_data",
          "data": {
            "text/plain": [
              "<IPython.core.display.Markdown object>"
            ],
            "text/markdown": "#### Favorable and unfavorable labels"
          },
          "metadata": {}
        },
        {
          "output_type": "stream",
          "name": "stdout",
          "text": [
            "1.0 0.0\n"
          ]
        },
        {
          "output_type": "display_data",
          "data": {
            "text/plain": [
              "<IPython.core.display.Markdown object>"
            ],
            "text/markdown": "#### Protected attribute names"
          },
          "metadata": {}
        },
        {
          "output_type": "stream",
          "name": "stdout",
          "text": [
            "['SEX']\n"
          ]
        },
        {
          "output_type": "display_data",
          "data": {
            "text/plain": [
              "<IPython.core.display.Markdown object>"
            ],
            "text/markdown": "#### Privileged and unprivileged protected attribute values"
          },
          "metadata": {}
        },
        {
          "output_type": "stream",
          "name": "stdout",
          "text": [
            "[array([1.])] [array([2.])]\n"
          ]
        },
        {
          "output_type": "display_data",
          "data": {
            "text/plain": [
              "<IPython.core.display.Markdown object>"
            ],
            "text/markdown": "#### Dataset feature names"
          },
          "metadata": {}
        },
        {
          "output_type": "stream",
          "name": "stdout",
          "text": [
            "['AGEP', 'SCHL', 'MAR', 'RELP', 'DIS', 'ESP', 'CIT', 'MIG', 'MIL', 'ANC', 'NATIVITY', 'DEAR', 'DEYE', 'DREM', 'SEX', 'RAC1P', 'GCL']\n"
          ]
        },
        {
          "output_type": "display_data",
          "data": {
            "text/plain": [
              "<IPython.core.display.Markdown object>"
            ],
            "text/markdown": "#### Results on the CA test set"
          },
          "metadata": {}
        },
        {
          "output_type": "display_data",
          "data": {
            "text/plain": [
              "<IPython.core.display.Markdown object>"
            ],
            "text/markdown": "##### Test the model with the best fairness Equal_opportunity_difference"
          },
          "metadata": {}
        },
        {
          "output_type": "stream",
          "name": "stdout",
          "text": [
            "Acc: 0.7243920169177901, Fair: -0.12190425530454152\n"
          ]
        },
        {
          "output_type": "display_data",
          "data": {
            "text/plain": [
              "<IPython.core.display.Markdown object>"
            ],
            "text/markdown": "##### Test the model with the highest accuracy"
          },
          "metadata": {}
        },
        {
          "output_type": "stream",
          "name": "stdout",
          "text": [
            "Acc: 0.7251850383293682, Fair: -0.12726014942707076\n"
          ]
        },
        {
          "output_type": "display_data",
          "data": {
            "text/plain": [
              "<IPython.core.display.Markdown object>"
            ],
            "text/markdown": "#### Figures:"
          },
          "metadata": {}
        },
        {
          "output_type": "display_data",
          "data": {
            "text/plain": [
              "<Figure size 720x504 with 2 Axes>"
            ],
            "image/png": "[encoded data removed]"
          },
          "metadata": {
            "needs_background": "light"
          }
        },
        {
          "output_type": "display_data",
          "data": {
            "text/plain": [
              "<Figure size 720x504 with 2 Axes>"
            ],
            "image/png": "[encoded data removed]"
          },
          "metadata": {
            "needs_background": "light"
          }
        },
        {
          "output_type": "display_data",
          "data": {
            "text/plain": [
              "<IPython.core.display.Markdown object>"
            ],
            "text/markdown": "#### Results on the NY test set"
          },
          "metadata": {}
        },
        {
          "output_type": "display_data",
          "data": {
            "text/plain": [
              "<IPython.core.display.Markdown object>"
            ],
            "text/markdown": "##### Test the model with the best fairness Equal_opportunity_difference"
          },
          "metadata": {}
        },
        {
          "output_type": "stream",
          "name": "stdout",
          "text": [
            "Acc: 0.7391571361428795, Fair: -0.11942312736970118\n"
          ]
        },
        {
          "output_type": "display_data",
          "data": {
            "text/plain": [
              "<IPython.core.display.Markdown object>"
            ],
            "text/markdown": "##### Test the model with the highest accuracy"
          },
          "metadata": {}
        },
        {
          "output_type": "stream",
          "name": "stdout",
          "text": [
            "Acc: 0.7395331348895504, Fair: -0.12419677783161176\n"
          ]
        },
        {
          "output_type": "display_data",
          "data": {
            "text/plain": [
              "<IPython.core.display.Markdown object>"
            ],
            "text/markdown": "#### Figures:"
          },
          "metadata": {}
        },
        {
          "output_type": "display_data",
          "data": {
            "text/plain": [
              "<Figure size 720x504 with 2 Axes>"
            ],
            "image/png": "[encoded data removed]"
          },
          "metadata": {
            "needs_background": "light"
          }
        },
        {
          "output_type": "display_data",
          "data": {
            "text/plain": [
              "<Figure size 720x504 with 2 Axes>"
            ],
            "image/png": "[encoded data removed]"
          },
          "metadata": {
            "needs_background": "light"
          }
        },
        {
          "output_type": "display_data",
          "data": {
            "text/plain": [
              "<IPython.core.display.Markdown object>"
            ],
            "text/markdown": "# Task 2: Fairness-aware Model"
          },
          "metadata": {}
        },
        {
          "output_type": "stream",
          "name": "stdout",
          "text": [
            "Using LOGSTIC REGRESSION and REWEIGHTING\n"
          ]
        },
        {
          "output_type": "display_data",
          "data": {
            "text/plain": [
              "<IPython.core.display.Markdown object>"
            ],
            "text/markdown": "#### Training Dataset shape"
          },
          "metadata": {}
        },
        {
          "output_type": "stream",
          "name": "stdout",
          "text": [
            "(211848, 17)\n"
          ]
        },
        {
          "output_type": "display_data",
          "data": {
            "text/plain": [
              "<IPython.core.display.Markdown object>"
            ],
            "text/markdown": "#### Favorable and unfavorable labels"
          },
          "metadata": {}
        },
        {
          "output_type": "stream",
          "name": "stdout",
          "text": [
            "1.0 0.0\n"
          ]
        },
        {
          "output_type": "display_data",
          "data": {
            "text/plain": [
              "<IPython.core.display.Markdown object>"
            ],
            "text/markdown": "#### Protected attribute names"
          },
          "metadata": {}
        },
        {
          "output_type": "stream",
          "name": "stdout",
          "text": [
            "['SEX']\n"
          ]
        },
        {
          "output_type": "display_data",
          "data": {
            "text/plain": [
              "<IPython.core.display.Markdown object>"
            ],
            "text/markdown": "#### Privileged and unprivileged protected attribute values"
          },
          "metadata": {}
        },
        {
          "output_type": "stream",
          "name": "stdout",
          "text": [
            "[array([1.])] [array([2.])]\n"
          ]
        },
        {
          "output_type": "display_data",
          "data": {
            "text/plain": [
              "<IPython.core.display.Markdown object>"
            ],
            "text/markdown": "#### Dataset feature names"
          },
          "metadata": {}
        },
        {
          "output_type": "stream",
          "name": "stdout",
          "text": [
            "['AGEP', 'SCHL', 'MAR', 'RELP', 'DIS', 'ESP', 'CIT', 'MIG', 'MIL', 'ANC', 'NATIVITY', 'DEAR', 'DEYE', 'DREM', 'SEX', 'RAC1P', 'GCL']\n",
            "1折划分: (169478,) (42370,)\n",
            "2折划分: (169478,) (42370,)\n",
            "3折划分: (169478,) (42370,)\n",
            "4折划分: (169479,) (42369,)\n",
            "5折划分: (169479,) (42369,)\n"
          ]
        }
      ]
    },
    {
      "cell_type": "markdown",
      "source": [],
      "metadata": {
        "id": "BvVzt2wec_wS"
      }
    }
  ]
}